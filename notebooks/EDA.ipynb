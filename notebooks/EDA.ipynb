{
 "cells": [
  {
   "attachments": {},
   "cell_type": "markdown",
   "metadata": {},
   "source": [
    "# Exploratory Data Analysis"
   ]
  },
  {
   "cell_type": "code",
   "execution_count": null,
   "metadata": {},
   "outputs": [],
   "source": [
    "from pathlib import Path\n",
    "\n",
    "import matplotlib.pyplot as plt\n",
    "import numpy as np\n",
    "import pandas as pd\n",
    "from statsmodels.graphics.tsaplots import plot_acf, plot_pacf\n",
    "from statsmodels.tsa.stattools import adfuller\n",
    "from scipy.stats import boxcox"
   ]
  },
  {
   "cell_type": "code",
   "execution_count": null,
   "metadata": {},
   "outputs": [],
   "source": [
    "DATA_DIR = (\n",
    "    Path(\"..\")\n",
    "    / \"..\"\n",
    "    / \"hfactory_magic_folders\"\n",
    "    / \"plastic_cost_prediction\"\n",
    "    / \"data\"\n",
    ")\n",
    "MAIN_FILE = \"PA6_cleaned_dataset.csv\""
   ]
  },
  {
   "cell_type": "code",
   "execution_count": null,
   "metadata": {},
   "outputs": [],
   "source": [
    "df = pd.read_csv(DATA_DIR / MAIN_FILE)"
   ]
  },
  {
   "cell_type": "code",
   "execution_count": null,
   "metadata": {},
   "outputs": [],
   "source": [
    "df.columns"
   ]
  },
  {
   "cell_type": "code",
   "execution_count": null,
   "metadata": {},
   "outputs": [],
   "source": [
    "df.dtypes"
   ]
  },
  {
   "cell_type": "code",
   "execution_count": null,
   "metadata": {},
   "outputs": [],
   "source": [
    "# convert time from string to datetime\n",
    "df[\"time\"] = pd.to_datetime(df[\"time\"])"
   ]
  },
  {
   "attachments": {},
   "cell_type": "markdown",
   "metadata": {},
   "source": [
    "## Time series plots of features"
   ]
  },
  {
   "attachments": {},
   "cell_type": "markdown",
   "metadata": {},
   "source": [
    "First, we have a look at the single columns that don't belong to the same topic."
   ]
  },
  {
   "cell_type": "code",
   "execution_count": null,
   "metadata": {},
   "outputs": [],
   "source": [
    "def plot_time_series(col: str) -> None:\n",
    "    # Create the plot\n",
    "    plt.plot(df[\"time\"], df[col])\n",
    "\n",
    "    # Add title and axis labels\n",
    "    plt.title(f\"Time Series Plot - {col}\")\n",
    "    plt.xlabel(\"time\")\n",
    "    plt.ylabel(col)\n",
    "    plt.xticks(rotation=45)\n",
    "\n",
    "    # Display the plot\n",
    "    plt.show()"
   ]
  },
  {
   "cell_type": "code",
   "execution_count": null,
   "metadata": {},
   "outputs": [],
   "source": [
    "single_cols = [\n",
    "    \"PA6 GLOBAL_ EMEAS _ EUR per TON\",\n",
    "    \"best_price_compound\",\n",
    "    \"Inflation_rate_france\",\n",
    "    \"Automotive Value\",\n",
    "]"
   ]
  },
  {
   "cell_type": "code",
   "execution_count": null,
   "metadata": {},
   "outputs": [],
   "source": [
    "for col in single_cols:\n",
    "    plot_time_series(col)"
   ]
  },
  {
   "attachments": {},
   "cell_type": "markdown",
   "metadata": {},
   "source": [
    "Next, the columns that belong to the same group are displayed in the same plot."
   ]
  },
  {
   "cell_type": "code",
   "execution_count": null,
   "metadata": {},
   "outputs": [],
   "source": [
    "gas_cols = [\"NGAS_US\", \"NGAS_EUR\", \"NGAS_JP\", \"iNATGAS\"]\n",
    "\n",
    "plt.figure()\n",
    "\n",
    "for column in gas_cols:\n",
    "    plt.plot(df[\"time\"], df[column], label=column)\n",
    "\n",
    "plt.title(f\"Time Series Plot - Natural Gas Prices\")\n",
    "plt.xlabel(\"time\")\n",
    "plt.ylabel(\"natural gas prices\")\n",
    "plt.legend();"
   ]
  },
  {
   "cell_type": "code",
   "execution_count": null,
   "metadata": {},
   "outputs": [],
   "source": [
    "crude_cols = [\"CRUDE_PETRO\", \"CRUDE_BRENT\", \"CRUDE_DUBAI\", \"CRUDE_WTI\"]\n",
    "\n",
    "plt.figure()\n",
    "\n",
    "for column in crude_cols:\n",
    "    plt.plot(df[\"time\"], df[column], label=column)\n",
    "\n",
    "plt.title(f\"Time Series Plot - Crude Oil Prices\")\n",
    "plt.xlabel(\"time\")\n",
    "plt.ylabel(\"crude oil prices\")\n",
    "plt.legend();"
   ]
  },
  {
   "cell_type": "code",
   "execution_count": null,
   "metadata": {},
   "outputs": [],
   "source": [
    "electricity_cols = [\n",
    "    \"Electricty_Price_France\",\n",
    "    \"Electricty_Price_Italy\",\n",
    "    \"Electricty_Price_Poland\",\n",
    "    \"Electricty_Price_Netherlands\",\n",
    "    \"Electricty_Price_Germany\",\n",
    "]\n",
    "\n",
    "plt.figure()\n",
    "\n",
    "for column in electricity_cols:\n",
    "    plt.plot(df[\"time\"], df[column], label=column)\n",
    "\n",
    "plt.title(f\"Time Series Plot - Electricty Prices\")\n",
    "plt.xlabel(\"time\")\n",
    "plt.ylabel(\"electricity prices\")\n",
    "plt.legend();"
   ]
  },
  {
   "cell_type": "code",
   "execution_count": null,
   "metadata": {},
   "outputs": [],
   "source": [
    "hydrocarbons_cols = [\"Benzene_price\", \"Caprolactam_price\", \"Cyclohexane_price\"]\n",
    "\n",
    "plt.figure()\n",
    "\n",
    "for column in hydrocarbons_cols:\n",
    "    plt.plot(df[\"time\"], df[column], label=column)\n",
    "\n",
    "plt.title(f\"Time Series Plot - Hydrocarbons Prices\")\n",
    "plt.xlabel(\"time\")\n",
    "plt.ylabel(\"hydrocarbons prices\")\n",
    "plt.legend();"
   ]
  },
  {
   "attachments": {},
   "cell_type": "markdown",
   "metadata": {},
   "source": [
    "## (Partial) Autocorrelation"
   ]
  },
  {
   "cell_type": "code",
   "execution_count": null,
   "metadata": {},
   "outputs": [],
   "source": [
    "for col in df.columns[1:]:\n",
    "    data = df[col]\n",
    "    if col == \"best_price_compound\":\n",
    "        data = data.dropna()\n",
    "\n",
    "    f, ax = plt.subplots(nrows=2, ncols=1)\n",
    "    f.subplots_adjust(hspace=0.4, top=0.85)\n",
    "    f.suptitle(col)\n",
    "    plot_acf(data, lags=10, ax=ax[0])\n",
    "    plot_pacf(data, lags=10, ax=ax[1])\n",
    "    plt.tight_layout()\n",
    "    plt.show()"
   ]
  },
  {
   "attachments": {},
   "cell_type": "markdown",
   "metadata": {},
   "source": [
    "## Augmented Dicky-Fuller (ADF) Test"
   ]
  },
  {
   "cell_type": "code",
   "execution_count": null,
   "metadata": {},
   "outputs": [],
   "source": [
    "df.drop(columns=[\"Unnamed: 0\"], inplace=True)"
   ]
  },
  {
   "cell_type": "code",
   "execution_count": null,
   "metadata": {},
   "outputs": [],
   "source": [
    "df"
   ]
  },
  {
   "cell_type": "code",
   "execution_count": null,
   "metadata": {},
   "outputs": [],
   "source": [
    "def adf_test_all_columns(dataframe, significance_level=0.05):\n",
    "    \"\"\"\n",
    "    Perform Augmented Dickey-Fuller (ADF) test on all columns in the DataFrame.\n",
    "\n",
    "    Parameters:\n",
    "    - dataframe: pandas DataFrame\n",
    "    - significance_level: significance level for the test (default is 0.05)\n",
    "\n",
    "    Returns:\n",
    "    - df_results: DataFrame containing column names and corresponding p-values\n",
    "    - stationary_columns: List of column names that are stationary\n",
    "    \"\"\"\n",
    "\n",
    "    df_results = pd.DataFrame(columns=[\"Column\", \"ADF p-value\"])\n",
    "    stationary_columns = []\n",
    "\n",
    "    for column in dataframe.columns:\n",
    "        result_adf = adfuller(dataframe[column].dropna())\n",
    "        p_value = round(result_adf[1], 3)\n",
    "\n",
    "        # df_results = df_results.append({'Column': column, 'ADF p-value': p_value}, ignore_index=True)\n",
    "        df_results = pd.concat(\n",
    "            [\n",
    "                df_results,\n",
    "                pd.DataFrame({\"Column\": [column], \"ADF p-value\": [p_value]}),\n",
    "            ],\n",
    "            ignore_index=True,\n",
    "        )\n",
    "\n",
    "        if p_value <= significance_level:\n",
    "            stationary_columns.append(column)\n",
    "\n",
    "    print(\"Columns that are stationary based on the ADF test:\")\n",
    "    print(stationary_columns)\n",
    "\n",
    "    return df_results, stationary_columns\n",
    "\n",
    "\n",
    "# Example Usage:\n",
    "# Replace 'your_dataframe' with the actual DataFrame containing your time series data\n",
    "results, stationary_cols = adf_test_all_columns(df)\n",
    "display(results)"
   ]
  },
  {
   "cell_type": "code",
   "execution_count": null,
   "metadata": {},
   "outputs": [],
   "source": [
    "def transform_and_test(series, transformation=\"log\", significance_level=0.05):\n",
    "    \"\"\"\n",
    "    Apply transformations to make the series stationary and perform ADF test.\n",
    "\n",
    "    Parameters:\n",
    "    - series: pandas Series\n",
    "    - transformation: 'log', 'sqrt', 'boxcox', 'diff', 'logdiff', or None (default is 'log')\n",
    "    - significance_level: significance level for the ADF test (default is 0.05)\n",
    "\n",
    "    Returns:\n",
    "    - transformed_series: pandas Series after transformation\n",
    "    - adf_p_value: ADF test p-value\n",
    "    \"\"\"\n",
    "\n",
    "    if transformation == \"log\":\n",
    "        transformed_series = np.log(series)\n",
    "    elif transformation == \"sqrt\":\n",
    "        transformed_series = np.sqrt(series)\n",
    "    elif transformation == \"boxcox\":\n",
    "        transformed_series, _ = boxcox(series)\n",
    "    elif transformation == \"diff\":\n",
    "        transformed_series = series.diff().dropna()\n",
    "    elif transformation == \"logdiff\":\n",
    "        transformed_series = np.log(series).diff().dropna()\n",
    "    else:\n",
    "        transformed_series = series\n",
    "\n",
    "    result_adf = adfuller(transformed_series)\n",
    "    adf_p_value = result_adf[1]\n",
    "\n",
    "    return transformed_series, adf_p_value\n",
    "\n",
    "\n",
    "def plot_acf_pacf_after_transformation(series, transformed_series, title):\n",
    "    \"\"\"\n",
    "    Plot ACF and PACF after applying transformation.\n",
    "\n",
    "    Parameters:\n",
    "    - series: pandas Series (original series)\n",
    "    - transformed_series: pandas Series after transformation\n",
    "    - title: Title for the plot\n",
    "    \"\"\"\n",
    "\n",
    "    plt.figure(figsize=(18, 8))\n",
    "\n",
    "    # Plot original series\n",
    "    plt.subplot(3, 1, 1)\n",
    "    plt.plot(series)\n",
    "    plt.title(\"Original Series\")\n",
    "\n",
    "    # Plot ACF of transformed series\n",
    "    plt.subplot(3, 2, 3)\n",
    "    plot_acf(transformed_series, lags=20, ax=plt.gca())\n",
    "    plt.title(f\"ACF of Transformed Series ({title})\")\n",
    "\n",
    "    # Plot PACF of transformed series\n",
    "    plt.subplot(3, 2, 4)\n",
    "    plot_pacf(transformed_series, lags=20, method=\"ywm\", ax=plt.gca())\n",
    "    plt.title(f\"PACF of Transformed Series ({title})\")\n",
    "\n",
    "    plt.tight_layout()\n",
    "    plt.show()\n",
    "\n",
    "\n",
    "# Example Usage:\n",
    "transformation_results = {}\n",
    "\n",
    "for column_name in df.columns:\n",
    "    if column_name != \"time\":\n",
    "        original_series = df[column_name].dropna()\n",
    "\n",
    "        print(f\"Column: {column_name}\")\n",
    "\n",
    "        # Dictionary to store transformation results\n",
    "        transformation_results[column_name] = []\n",
    "\n",
    "        # Log transformation\n",
    "        log_transformed_series, adf_p_value_log = transform_and_test(\n",
    "            original_series, transformation=\"log\"\n",
    "        )\n",
    "        if adf_p_value_log < 0.05:\n",
    "            transformation_results[column_name].append(\"log\")\n",
    "        print(f\"ADF P-Value (Log Transformation): {adf_p_value_log}\")\n",
    "        plot_acf_pacf_after_transformation(\n",
    "            original_series, log_transformed_series, \"Log Transformation\"\n",
    "        )\n",
    "\n",
    "        # Square root transformation\n",
    "        sqrt_transformed_series, adf_p_value_sqrt = transform_and_test(\n",
    "            original_series, transformation=\"sqrt\"\n",
    "        )\n",
    "        if adf_p_value_sqrt < 0.05:\n",
    "            transformation_results[column_name].append(\"sqrt\")\n",
    "        print(f\"ADF P-Value (Square Root Transformation): {adf_p_value_sqrt}\")\n",
    "        plot_acf_pacf_after_transformation(\n",
    "            original_series,\n",
    "            sqrt_transformed_series,\n",
    "            \"Square Root Transformation\",\n",
    "        )\n",
    "\n",
    "        # Box-Cox transformation\n",
    "        boxcox_transformed_series, adf_p_value_boxcox = transform_and_test(\n",
    "            original_series, transformation=\"boxcox\"\n",
    "        )\n",
    "        if adf_p_value_boxcox < 0.05:\n",
    "            transformation_results[column_name].append(\"boxcox\")\n",
    "        print(f\"ADF P-Value (Box-Cox Transformation): {adf_p_value_boxcox}\")\n",
    "        plot_acf_pacf_after_transformation(\n",
    "            original_series,\n",
    "            boxcox_transformed_series,\n",
    "            \"Box-Cox Transformation\",\n",
    "        )\n",
    "\n",
    "        # First differencing\n",
    "        differenced_series, adf_p_value_diff = transform_and_test(\n",
    "            original_series, transformation=\"diff\"\n",
    "        )\n",
    "        if adf_p_value_diff < 0.05:\n",
    "            transformation_results[column_name].append(\"diff\")\n",
    "        print(f\"ADF P-Value (First Differencing): {adf_p_value_diff}\")\n",
    "        plot_acf_pacf_after_transformation(\n",
    "            original_series, differenced_series, \"First Differencing\"\n",
    "        )\n",
    "\n",
    "        # Second difference of log\n",
    "        logdiff_transformed_series, adf_p_value_logdiff = transform_and_test(\n",
    "            original_series, transformation=\"logdiff\"\n",
    "        )\n",
    "        if adf_p_value_logdiff < 0.05:\n",
    "            transformation_results[column_name].append(\"logdiff\")\n",
    "        print(f\"ADF P-Value (Difference of Log): {adf_p_value_logdiff}\")\n",
    "        plot_acf_pacf_after_transformation(\n",
    "            original_series,\n",
    "            logdiff_transformed_series,\n",
    "            \"Second Difference of Log\",\n",
    "        )\n",
    "\n",
    "        print(\"\\n\")\n",
    "\n",
    "# Display the dictionary of transformation results\n",
    "print(\"Transformation Results:\")\n",
    "display(transformation_results)"
   ]
  },
  {
   "cell_type": "code",
   "execution_count": null,
   "metadata": {},
   "outputs": [],
   "source": [
    "# Select the 'NGAS_JP' column\n",
    "original_series = df[\"NGAS_JP\"].dropna()\n",
    "\n",
    "# Apply the second difference of the log transformation\n",
    "transformed_series = np.log(original_series).diff().diff().dropna()\n",
    "\n",
    "# Perform the ADF test\n",
    "result_adf = adfuller(transformed_series)\n",
    "adf_p_value = result_adf[1]\n",
    "\n",
    "# Plot ACF and PACF after applying transformation\n",
    "plot_acf_pacf_after_transformation(\n",
    "    original_series, transformed_series, \"Second Difference of Log\"\n",
    ")\n",
    "\n",
    "print(f\"ADF P-Value (Second Difference of Log): {adf_p_value}\")"
   ]
  },
  {
   "cell_type": "code",
   "execution_count": null,
   "metadata": {},
   "outputs": [],
   "source": [
    "data = df[\"best_price_compound\"].diff()\n",
    "data = data.dropna()\n",
    "\n",
    "f, ax = plt.subplots(nrows=2, ncols=1)\n",
    "f.subplots_adjust(hspace=0.4, top=0.85)\n",
    "f.suptitle(\"Stationary series for best_price_compound, Y(t) - Y(t-1)\")\n",
    "plot_acf(data, lags=10, ax=ax[0])\n",
    "plot_pacf(data, lags=10, ax=ax[1])\n",
    "plt.tight_layout()\n",
    "plt.show()"
   ]
  },
  {
   "cell_type": "code",
   "execution_count": null,
   "metadata": {},
   "outputs": [],
   "source": []
  }
 ],
 "metadata": {
  "kernelspec": {
   "display_name": ".venv",
   "language": "python",
   "name": "python3"
  },
  "language_info": {
   "codemirror_mode": {
    "name": "ipython",
    "version": 3
   },
   "file_extension": ".py",
   "mimetype": "text/x-python",
   "name": "python",
   "nbconvert_exporter": "python",
   "pygments_lexer": "ipython3",
   "version": "3.10.12"
  }
 },
 "nbformat": 4,
 "nbformat_minor": 2
}
