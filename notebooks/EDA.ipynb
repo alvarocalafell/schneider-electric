{
 "cells": [
  {
   "attachments": {},
   "cell_type": "markdown",
   "metadata": {},
   "source": [
    "# Exploratory Data Analysis"
   ]
  },
  {
   "cell_type": "code",
   "execution_count": null,
   "metadata": {},
   "outputs": [],
   "source": [
    "from pathlib import Path\n",
    "\n",
    "import matplotlib.pyplot as plt\n",
    "import pandas as pd\n",
    "from statsmodels.graphics.tsaplots import plot_acf, plot_pacf"
   ]
  },
  {
   "cell_type": "code",
   "execution_count": null,
   "metadata": {},
   "outputs": [],
   "source": [
    "DATA_DIR = (\n",
    "    Path(\"..\")\n",
    "    / \"..\"\n",
    "    / \"hfactory_magic_folders\"\n",
    "    / \"plastic_cost_prediction\"\n",
    "    / \"data\"\n",
    ")\n",
    "MAIN_FILE = \"PA6_cleaned_dataset.csv\""
   ]
  },
  {
   "cell_type": "code",
   "execution_count": null,
   "metadata": {},
   "outputs": [],
   "source": [
    "df = pd.read_csv(DATA_DIR / MAIN_FILE)"
   ]
  },
  {
   "cell_type": "code",
   "execution_count": null,
   "metadata": {},
   "outputs": [],
   "source": [
    "df.columns"
   ]
  },
  {
   "cell_type": "code",
   "execution_count": null,
   "metadata": {},
   "outputs": [],
   "source": [
    "df.dtypes"
   ]
  },
  {
   "cell_type": "code",
   "execution_count": null,
   "metadata": {},
   "outputs": [],
   "source": [
    "# convert time from string to datetime\n",
    "df[\"time\"] = pd.to_datetime(df[\"time\"])"
   ]
  },
  {
   "attachments": {},
   "cell_type": "markdown",
   "metadata": {},
   "source": [
    "## Time series plots of features"
   ]
  },
  {
   "attachments": {},
   "cell_type": "markdown",
   "metadata": {},
   "source": [
    "First, we have a look at the single columns that don't belong to the same topic."
   ]
  },
  {
   "cell_type": "code",
   "execution_count": null,
   "metadata": {},
   "outputs": [],
   "source": [
    "def plot_time_series(col: str) -> None:\n",
    "    # Create the plot\n",
    "    plt.plot(df[\"time\"], df[col])\n",
    "\n",
    "    # Add title and axis labels\n",
    "    plt.title(f\"Time Series Plot - {col}\")\n",
    "    plt.xlabel(\"time\")\n",
    "    plt.ylabel(col)\n",
    "    plt.xticks(rotation=45)\n",
    "\n",
    "    # Display the plot\n",
    "    plt.show()"
   ]
  },
  {
   "cell_type": "code",
   "execution_count": null,
   "metadata": {},
   "outputs": [],
   "source": [
    "single_cols = [\n",
    "    \"PA6 GLOBAL_ EMEAS _ EUR per TON\",\n",
    "    \"best_price_compound\",\n",
    "    \"Inflation_rate_france\",\n",
    "    \"Automotive Value\",\n",
    "]"
   ]
  },
  {
   "cell_type": "code",
   "execution_count": null,
   "metadata": {},
   "outputs": [],
   "source": [
    "for col in single_cols:\n",
    "    plot_time_series(col)"
   ]
  },
  {
   "attachments": {},
   "cell_type": "markdown",
   "metadata": {},
   "source": [
    "Next, the columns that belong to the same group are displayed in the same plot."
   ]
  },
  {
   "cell_type": "code",
   "execution_count": null,
   "metadata": {},
   "outputs": [],
   "source": [
    "gas_cols = [\"NGAS_US\", \"NGAS_EUR\", \"NGAS_JP\", \"iNATGAS\"]\n",
    "\n",
    "plt.figure()\n",
    "\n",
    "for column in gas_cols:\n",
    "    plt.plot(df[\"time\"], df[column], label=column)\n",
    "\n",
    "plt.title(f\"Time Series Plot - Natural Gas Prices\")\n",
    "plt.xlabel(\"time\")\n",
    "plt.ylabel(\"natural gas prices\")\n",
    "plt.legend();"
   ]
  },
  {
   "cell_type": "code",
   "execution_count": null,
   "metadata": {},
   "outputs": [],
   "source": [
    "crude_cols = [\"CRUDE_PETRO\", \"CRUDE_BRENT\", \"CRUDE_DUBAI\", \"CRUDE_WTI\"]\n",
    "\n",
    "plt.figure()\n",
    "\n",
    "for column in crude_cols:\n",
    "    plt.plot(df[\"time\"], df[column], label=column)\n",
    "\n",
    "plt.title(f\"Time Series Plot - Crude Oil Prices\")\n",
    "plt.xlabel(\"time\")\n",
    "plt.ylabel(\"crude oil prices\")\n",
    "plt.legend();"
   ]
  },
  {
   "cell_type": "code",
   "execution_count": null,
   "metadata": {},
   "outputs": [],
   "source": [
    "electricity_cols = [\n",
    "    \"Electricty_Price_France\",\n",
    "    \"Electricty_Price_Italy\",\n",
    "    \"Electricty_Price_Poland\",\n",
    "    \"Electricty_Price_Netherlands\",\n",
    "    \"Electricty_Price_Germany\",\n",
    "]\n",
    "\n",
    "plt.figure()\n",
    "\n",
    "for column in electricity_cols:\n",
    "    plt.plot(df[\"time\"], df[column], label=column)\n",
    "\n",
    "plt.title(f\"Time Series Plot - Electricty Prices\")\n",
    "plt.xlabel(\"time\")\n",
    "plt.ylabel(\"electricity prices\")\n",
    "plt.legend();"
   ]
  },
  {
   "cell_type": "code",
   "execution_count": null,
   "metadata": {},
   "outputs": [],
   "source": [
    "hydrocarbons_cols = [\"Benzene_price\", \"Caprolactam_price\", \"Cyclohexane_price\"]\n",
    "\n",
    "plt.figure()\n",
    "\n",
    "for column in hydrocarbons_cols:\n",
    "    plt.plot(df[\"time\"], df[column], label=column)\n",
    "\n",
    "plt.title(f\"Time Series Plot - Hydrocarbons Prices\")\n",
    "plt.xlabel(\"time\")\n",
    "plt.ylabel(\"hydrocarbons prices\")\n",
    "plt.legend();"
   ]
  },
  {
   "attachments": {},
   "cell_type": "markdown",
   "metadata": {},
   "source": [
    "## (Partial) Autocorrelation"
   ]
  },
  {
   "cell_type": "code",
   "execution_count": null,
   "metadata": {},
   "outputs": [],
   "source": [
    "for col in df.columns[1:]:\n",
    "    data = df[col]\n",
    "    if col == \"best_price_compound\":\n",
    "        data = data.dropna()\n",
    "\n",
    "    f, ax = plt.subplots(nrows=2, ncols=1)\n",
    "    f.subplots_adjust(hspace=0.4, top=0.85)\n",
    "    f.suptitle(col)\n",
    "    plot_acf(data, lags=10, ax=ax[0])\n",
    "    plot_pacf(data, lags=10, ax=ax[1])\n",
    "    plt.tight_layout()\n",
    "    plt.show()"
   ]
  },
  {
   "cell_type": "code",
   "execution_count": null,
   "metadata": {},
   "outputs": [],
   "source": []
  }
 ],
 "metadata": {
  "kernelspec": {
   "display_name": ".venv",
   "language": "python",
   "name": "python3"
  },
  "language_info": {
   "codemirror_mode": {
    "name": "ipython",
    "version": 3
   },
   "file_extension": ".py",
   "mimetype": "text/x-python",
   "name": "python",
   "nbconvert_exporter": "python",
   "pygments_lexer": "ipython3",
   "version": "3.10.12"
  }
 },
 "nbformat": 4,
 "nbformat_minor": 2
}
