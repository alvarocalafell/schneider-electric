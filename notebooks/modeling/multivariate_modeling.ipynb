{
 "cells": [
  {
   "cell_type": "code",
   "execution_count": null,
   "metadata": {},
   "outputs": [],
   "source": [
    "from pathlib import Path\n",
    "from statsmodels.tsa.vector_ar.var_model import VAR\n",
    "\n",
    "import matplotlib.pyplot as plt\n",
    "import pandas as pd\n",
    "import warnings\n",
    "\n",
    "from config.config_modeling import D\n",
    "from src.data_preprocessing.data_loader import load_data, time_split\n",
    "\n",
    "from src.modeling.multivariate_modeling import adfuller_test, grid_search_var\n",
    "from src.modeling.evaluation import smape\n",
    "\n",
    "warnings.filterwarnings(\"ignore\")"
   ]
  },
  {
   "cell_type": "code",
   "execution_count": null,
   "metadata": {},
   "outputs": [],
   "source": [
    "DATA_DIR = (\n",
    "    Path(\"..\")\n",
    "    / \"..\"\n",
    "    / \"..\"\n",
    "    / \"hfactory_magic_folders\"\n",
    "    / \"plastic_cost_prediction\"\n",
    "    / \"data\"\n",
    ")\n",
    "MAIN_FILE = \"PA6_cleaned_dataset.csv\""
   ]
  },
  {
   "cell_type": "code",
   "execution_count": null,
   "metadata": {},
   "outputs": [],
   "source": [
    "df = load_data(DATA_DIR / MAIN_FILE)"
   ]
  },
  {
   "attachments": {},
   "cell_type": "markdown",
   "metadata": {},
   "source": [
    "### Check for stationarity"
   ]
  },
  {
   "cell_type": "code",
   "execution_count": null,
   "metadata": {},
   "outputs": [],
   "source": [
    "df_diff = df.copy()\n",
    "for column, value in D.items():\n",
    "    for i in range(value):\n",
    "        df_diff[column] = df_diff[column].diff()\n",
    "\n",
    "df_diff = df_diff.dropna()\n",
    "df_diff"
   ]
  },
  {
   "cell_type": "code",
   "execution_count": null,
   "metadata": {},
   "outputs": [],
   "source": [
    "for name, column in df_diff.items():\n",
    "    adfuller_test(column, name=name)"
   ]
  },
  {
   "attachments": {},
   "cell_type": "markdown",
   "metadata": {},
   "source": [
    "### VAR Modelling"
   ]
  },
  {
   "cell_type": "code",
   "execution_count": null,
   "metadata": {},
   "outputs": [],
   "source": [
    "best_order, best_sMAPE, best_MAE, best_model, best_preds = grid_search_var(\n",
    "    df_diff\n",
    ")"
   ]
  },
  {
   "cell_type": "code",
   "execution_count": null,
   "metadata": {},
   "outputs": [],
   "source": [
    "best_sMAPE"
   ]
  },
  {
   "cell_type": "code",
   "execution_count": null,
   "metadata": {},
   "outputs": [],
   "source": [
    "best_order"
   ]
  },
  {
   "cell_type": "code",
   "execution_count": null,
   "metadata": {},
   "outputs": [],
   "source": [
    "spl = time_split(df_diff)\n",
    "\n",
    "# iterate over cv folds\n",
    "for train_idx, test_idx in spl:\n",
    "    train = df_diff.iloc[train_idx]\n",
    "    test = df_diff.iloc[test_idx]\n",
    "\n",
    "    model = VAR(train)\n",
    "    model_fit = model.fit(best_order)\n",
    "\n",
    "    # calculate smape foe each fold\n",
    "    forecast_input = train.values[-best_order:]\n",
    "    pred_values = model_fit.forecast(y=forecast_input, steps=len(test))\n",
    "    preds = pd.DataFrame(\n",
    "        pred_values, index=test.index[-len(test) :], columns=df_diff.columns\n",
    "    )\n",
    "\n",
    "    sMAPE = smape(\n",
    "        test[\"best_price_compound\"][2::3], preds[\"best_price_compound\"][2::3]\n",
    "    )\n",
    "    print(sMAPE)"
   ]
  },
  {
   "cell_type": "code",
   "execution_count": null,
   "metadata": {},
   "outputs": [],
   "source": [
    "best_preds = best_preds.add_suffix(\"_forecast\")\n",
    "\n",
    "fig, axes = plt.subplots(\n",
    "    nrows=int(len(df_diff.columns) / 2), ncols=2, dpi=150, figsize=(20, 20)\n",
    ")\n",
    "for i, (col, ax) in enumerate(zip(df_diff.columns, axes.flatten())):\n",
    "    best_preds[col + \"_forecast\"].plot(legend=True, ax=ax)\n",
    "    df_diff[col].plot(legend=True, ax=ax)\n",
    "    ax.set_title(col + \": Forecast vs Actuals\")\n",
    "    ax.xaxis.set_ticks_position(\"none\")\n",
    "    ax.yaxis.set_ticks_position(\"none\")\n",
    "    ax.spines[\"top\"].set_alpha(0)\n",
    "    ax.tick_params(labelsize=6)\n",
    "\n",
    "plt.tight_layout()"
   ]
  },
  {
   "cell_type": "code",
   "execution_count": null,
   "metadata": {},
   "outputs": [],
   "source": []
  }
 ],
 "metadata": {
  "kernelspec": {
   "display_name": ".venv",
   "language": "python",
   "name": "python3"
  },
  "language_info": {
   "codemirror_mode": {
    "name": "ipython",
    "version": 3
   },
   "file_extension": ".py",
   "mimetype": "text/x-python",
   "name": "python",
   "nbconvert_exporter": "python",
   "pygments_lexer": "ipython3",
   "version": "3.10.7"
  }
 },
 "nbformat": 4,
 "nbformat_minor": 2
}
