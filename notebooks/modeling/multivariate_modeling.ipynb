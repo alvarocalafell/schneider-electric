{
 "cells": [
  {
   "cell_type": "code",
   "execution_count": null,
   "metadata": {},
   "outputs": [],
   "source": [
    "from pathlib import Path\n",
    "\n",
    "import matplotlib.pyplot as plt\n",
    "import numpy as np\n",
    "import pandas as pd\n",
    "\n",
    "import sys\n",
    "\n",
    "sys.path.append(\"../..\")\n",
    "\n",
    "from src.data_preprocessing.data_pipeline import data_pipeline\n",
    "from src.modeling.evaluation import smape, mae\n",
    "from src.modeling.multivariate_modeling import adfuller_test, get_var_model"
   ]
  },
  {
   "cell_type": "code",
   "execution_count": null,
   "metadata": {},
   "outputs": [],
   "source": [
    "DATA_DIR = (\n",
    "    Path(\"..\")\n",
    "    / \"..\"\n",
    "    / \"..\"\n",
    "    / \"hfactory_magic_folders\"\n",
    "    / \"plastic_cost_prediction\"\n",
    "    / \"data\"\n",
    ")\n",
    "MAIN_FILE = \"PA6_cleaned_dataset.csv\""
   ]
  },
  {
   "cell_type": "code",
   "execution_count": null,
   "metadata": {},
   "outputs": [],
   "source": [
    "df, _ = data_pipeline(DATA_DIR / MAIN_FILE)"
   ]
  },
  {
   "cell_type": "code",
   "execution_count": null,
   "metadata": {},
   "outputs": [],
   "source": [
    "df.dropna(inplace=True)"
   ]
  },
  {
   "attachments": {},
   "cell_type": "markdown",
   "metadata": {},
   "source": [
    "### Check for stationarity"
   ]
  },
  {
   "cell_type": "code",
   "execution_count": null,
   "metadata": {},
   "outputs": [],
   "source": [
    "D = {\n",
    "    \"best_price_compound\": 1,\n",
    "    \"PA6 GLOBAL_ EMEAS _ EUR per TON\": 3,\n",
    "    \"CRUDE_PETRO\": 1,\n",
    "    \"CRUDE_BRENT\": 1,\n",
    "    \"CRUDE_DUBAI\": 1,\n",
    "    \"CRUDE_WTI\": 1,\n",
    "    \"Benzene_price\": 1,\n",
    "    \"Caprolactam_price\": 1,\n",
    "    \"Cyclohexane_price\": 1,\n",
    "    \"Electricty_Price_Netherlands\": 0,\n",
    "    \"Electricty_Price_France\": 0,\n",
    "    \"Electricty_Price_Italy\": 0,\n",
    "    \"Electricty_Price_Poland\": 2,\n",
    "    \"Electricty_Price_Germany\": 2,\n",
    "    \"NGAS_EUR\": 0,\n",
    "    \"NGAS_US\": 1,\n",
    "    \"NGAS_JP\": 2,\n",
    "    \"iNATGAS\": 0,\n",
    "    \"Inflation_rate_france\": 2,\n",
    "    \"Automotive Value\": 1,\n",
    "}"
   ]
  },
  {
   "cell_type": "code",
   "execution_count": null,
   "metadata": {},
   "outputs": [],
   "source": [
    "df_diff = df.copy()\n",
    "for column, value in D.items():\n",
    "    for i in range(value):\n",
    "        df_diff[column] = df_diff[column].diff()\n",
    "\n",
    "df_diff = df_diff.iloc[2:].dropna()\n",
    "df_diff\n"
   ]
  },
  {
   "cell_type": "code",
   "execution_count": null,
   "metadata": {},
   "outputs": [],
   "source": [
    "for name, column in df_diff.items():\n",
    "    adfuller_test(column, name=name)"
   ]
  },
  {
   "attachments": {},
   "cell_type": "markdown",
   "metadata": {},
   "source": [
    "### VAR Modelling"
   ]
  },
  {
   "cell_type": "code",
   "execution_count": null,
   "metadata": {},
   "outputs": [],
   "source": [
    "from src.data_preprocessing.data_loader import time_split\n",
    "\n",
    "df_diff.dropna(inplace=True)\n",
    "spl = time_split(df_diff)\n",
    "\n",
    "for train_idx, test_idx in spl:\n",
    "    train = df_diff.iloc[train_idx]\n",
    "    test = df_diff.iloc[test_idx]"
   ]
  },
  {
   "cell_type": "code",
   "execution_count": null,
   "metadata": {},
   "outputs": [],
   "source": [
    "from src.modeling.multivariate_modeling import adfuller_test, grid_search_var\n",
    "\n",
    "best_model, best_order = grid_search_var(train)\n",
    "print(best_model.summary())"
   ]
  },
  {
   "cell_type": "code",
   "execution_count": null,
   "metadata": {},
   "outputs": [],
   "source": [
    "lag_order = best_model.k_ar\n",
    "forecast_input = df_diff.values[-lag_order:]\n",
    "\n",
    "nobs = len(train)\n",
    "fc = best_model.forecast(y=forecast_input, steps=nobs)"
   ]
  },
  {
   "cell_type": "code",
   "execution_count": null,
   "metadata": {},
   "outputs": [],
   "source": [
    "fc"
   ]
  },
  {
   "cell_type": "code",
   "execution_count": null,
   "metadata": {},
   "outputs": [],
   "source": [
    "df_forecast = pd.DataFrame(\n",
    "            fc, index=df_diff.index[-nobs:], columns=df_diff.columns \n",
    "        )"
   ]
  },
  {
   "cell_type": "code",
   "execution_count": null,
   "metadata": {},
   "outputs": [],
   "source": [
    "# df_predic = df_forecast.copy()\n",
    "\n",
    "# for column, value in D.items():\n",
    "#     for i in range(value):\n",
    "#         df_predic[column] = train[column].iloc[-1] + df_forecast[column].cumsum()\n"
   ]
  },
  {
   "cell_type": "code",
   "execution_count": null,
   "metadata": {},
   "outputs": [],
   "source": [
    "    df_forecast = df_forecast.add_suffix('_forecast')\n",
    "    \n",
    "    fig, axes = plt.subplots(\n",
    "        nrows=int(len(df_predic.columns) / 2), ncols=2, dpi=150, figsize=(20, 20)\n",
    "    )\n",
    "    for i, (col, ax) in enumerate(zip(df_predic.columns, axes.flatten())):\n",
    "        # df_forecast[col + \"_forecast\"][-nobs:].plot(legend=True, ax=ax)\n",
    "        # .autoscale(\n",
    "        #     axis=\"x\", tight=True\n",
    "        # )\n",
    "        df_diff[col].plot(legend=True, ax=ax)\n",
    "        ax.set_title(col + \": Forecast vs Actuals\")\n",
    "        ax.xaxis.set_ticks_position(\"none\")\n",
    "        ax.yaxis.set_ticks_position(\"none\")\n",
    "        ax.spines[\"top\"].set_alpha(0)\n",
    "        ax.tick_params(labelsize=6)\n",
    "\n",
    "    plt.tight_layout()\n"
   ]
  },
  {
   "cell_type": "code",
   "execution_count": null,
   "metadata": {},
   "outputs": [],
   "source": [
    "var_model = get_var_model(df_var, df_diff)"
   ]
  },
  {
   "cell_type": "code",
   "execution_count": null,
   "metadata": {},
   "outputs": [],
   "source": [
    "var_model = get_var_model(df, df_3diff)"
   ]
  },
  {
   "attachments": {},
   "cell_type": "markdown",
   "metadata": {},
   "source": [
    "### VARMA"
   ]
  },
  {
   "cell_type": "code",
   "execution_count": null,
   "metadata": {},
   "outputs": [],
   "source": [
    "df_2diff"
   ]
  },
  {
   "cell_type": "code",
   "execution_count": null,
   "metadata": {},
   "outputs": [],
   "source": [
    "from src.data_preprocessing.data_loader import time_split\n",
    "\n",
    "df_2diff.dropna(inplace=True)\n",
    "spl = time_split(df_2diff)\n",
    "\n",
    "for train_idx, test_idx in spl:\n",
    "    train = df_2diff.iloc[train_idx]\n",
    "    test = df_2diff.iloc[test_idx]"
   ]
  },
  {
   "cell_type": "code",
   "execution_count": null,
   "metadata": {},
   "outputs": [],
   "source": [
    "from statsmodels.tsa.statespace.varmax import VARMAX\n",
    "\n",
    "model = VARMAX(train, order=(1, 1))\n",
    "model_fit = model.fit(disp=False)"
   ]
  },
  {
   "cell_type": "code",
   "execution_count": null,
   "metadata": {},
   "outputs": [],
   "source": [
    "pred = model_fit.forecast(steps=len(test))\n",
    "pred"
   ]
  },
  {
   "cell_type": "code",
   "execution_count": null,
   "metadata": {},
   "outputs": [],
   "source": [
    "train"
   ]
  },
  {
   "cell_type": "code",
   "execution_count": null,
   "metadata": {},
   "outputs": [],
   "source": [
    "# remove first point\n",
    "\n",
    "res=pd.DataFrame({\"Pred\": pred['best_price_compound'], \"Act\": test[\"best_price_compound\"].values})\n",
    "res"
   ]
  },
  {
   "cell_type": "code",
   "execution_count": null,
   "metadata": {},
   "outputs": [],
   "source": [
    "import matplotlib.pyplot as plt\n",
    "\n",
    "plt.figure(figsize=(10, 6))\n",
    "plt.plot(res.index, res['Pred'], label='Predicted')\n",
    "plt.plot(res.index, res['Act'], label='Actual')\n",
    "\n",
    "plt.title('Predicted vs Actual Values Over Time')\n",
    "plt.xlabel('Date')\n",
    "plt.ylabel('Values')\n",
    "plt.legend()\n",
    "plt.show()\n"
   ]
  },
  {
   "cell_type": "code",
   "execution_count": null,
   "metadata": {},
   "outputs": [],
   "source": []
  }
 ],
 "metadata": {
  "kernelspec": {
   "display_name": ".venv",
   "language": "python",
   "name": "python3"
  },
  "language_info": {
   "codemirror_mode": {
    "name": "ipython",
    "version": 3
   },
   "file_extension": ".py",
   "mimetype": "text/x-python",
   "name": "python",
   "nbconvert_exporter": "python",
   "pygments_lexer": "ipython3",
   "version": "3.10.12"
  }
 },
 "nbformat": 4,
 "nbformat_minor": 2
}
