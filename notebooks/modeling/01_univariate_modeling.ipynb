{
 "cells": [
  {
   "attachments": {},
   "cell_type": "markdown",
   "metadata": {},
   "source": [
    "# Univariate Models"
   ]
  },
  {
   "cell_type": "code",
   "execution_count": null,
   "metadata": {},
   "outputs": [],
   "source": [
    "from pathlib import Path\n",
    "\n",
    "import matplotlib.pyplot as plt\n",
    "import numpy as np\n",
    "import pandas as pd\n",
    "from statsmodels.tsa.arima.model import ARIMA\n",
    "\n",
    "from src.data_preprocessing.data_loader import load_data, time_split\n",
    "from src.modeling.evaluation import smape, mae\n",
    "from src.modeling.univariate_modeling import get_best_cv_model"
   ]
  },
  {
   "cell_type": "code",
   "execution_count": null,
   "metadata": {},
   "outputs": [],
   "source": [
    "DATA_DIR = (\n",
    "    Path(\"..\")\n",
    "    / \"..\"\n",
    "    / \"..\"\n",
    "    / \"hfactory_magic_folders\"\n",
    "    / \"plastic_cost_prediction\"\n",
    "    / \"data\"\n",
    ")\n",
    "MAIN_FILE = \"PA6_cleaned_dataset.csv\""
   ]
  },
  {
   "cell_type": "code",
   "execution_count": null,
   "metadata": {},
   "outputs": [],
   "source": [
    "df = load_data(DATA_DIR / MAIN_FILE)"
   ]
  },
  {
   "cell_type": "code",
   "execution_count": null,
   "metadata": {},
   "outputs": [],
   "source": [
    "models = get_best_cv_model(df)"
   ]
  },
  {
   "cell_type": "code",
   "execution_count": null,
   "metadata": {},
   "outputs": [],
   "source": [
    "# define colors for each model type\n",
    "color_dict = {\n",
    "    \"baseline\": \"grey\",\n",
    "    \"ARIMA\": \"orange\",\n",
    "    \"ETS\": \"blue\",\n",
    "    \"XGB\": \"green\",\n",
    "}\n",
    "\n",
    "for col in models:\n",
    "    # get series of each col, where last 9 months are test values\n",
    "    series = df[col].copy().dropna()\n",
    "    y_train = series.iloc[:-9]\n",
    "    y_test = series.iloc[-9:]\n",
    "\n",
    "    # create figure for time series plot of this column\n",
    "    plt.figure(figsize=(10, 6))\n",
    "    plt.plot(y_train.index, y_train, label=\"Training data\", color=\"black\")\n",
    "    plt.plot(y_test.index, y_test, label=\"Test data\", color=\"red\")\n",
    "\n",
    "    for model in models[col]:\n",
    "        if model not in [\"selected\", \"XGB\"]:\n",
    "            # plot line graph for recursive and baseline method\n",
    "            plt.plot(\n",
    "                y_test.index,\n",
    "                models[col][model][\"preds\"],\n",
    "                label=model,\n",
    "                color=color_dict[model],\n",
    "            )\n",
    "        elif model == \"XGB\":\n",
    "            # for direct model plot points to show that it is not\n",
    "            # continous and different models\n",
    "            plt.plot(\n",
    "                y_test.index[2::3],\n",
    "                models[col][model][\"preds\"],\n",
    "                \".\",\n",
    "                label=model,\n",
    "                color=color_dict[model],\n",
    "            )\n",
    "\n",
    "    # add plot information\n",
    "    plt.xlabel(\"Time\")\n",
    "    plt.ylabel(\"Values\")\n",
    "    plt.legend()\n",
    "    plt.title(\n",
    "        f\"{col} - Actual vs Predictions \\n Final Model: {models[col]['selected']}\"\n",
    "    )\n",
    "    plt.show()"
   ]
  },
  {
   "cell_type": "markdown",
   "metadata": {},
   "source": [
    "## Best Univariate Model for the Target\n",
    "\n",
    "We want to invesigate the average performance across folds for each time horizon (3-6-9 months) of the best model as well as look at the residuals of each fold. \n",
    "\n",
    "Note: The time horizon is defined by the goal of the project, i.e. giving predictions for 3, 6, and 9 months into the future."
   ]
  },
  {
   "cell_type": "code",
   "execution_count": null,
   "metadata": {},
   "outputs": [],
   "source": [
    "target = \"best_price_compound\"\n",
    "\n",
    "# define future index\n",
    "idx = pd.DatetimeIndex(\n",
    "    [\n",
    "        \"2023-02-01\",\n",
    "        \"2023-03-01\",\n",
    "        \"2023-04-01\",\n",
    "        \"2023-05-01\",\n",
    "        \"2023-06-01\",\n",
    "        \"2023-07-01\",\n",
    "        \"2023-08-01\",\n",
    "        \"2023-09-01\",\n",
    "        \"2023-10-01\",\n",
    "    ]\n",
    ")"
   ]
  },
  {
   "cell_type": "code",
   "execution_count": null,
   "metadata": {},
   "outputs": [],
   "source": [
    "# get time series for target and cv-splits as well as best model\n",
    "series = df[target].copy().dropna()\n",
    "target_model = models[target][models[target][\"selected\"]]\n",
    "spl = time_split(series)\n",
    "\n",
    "# create lists for target/preds for 3, 6, and 9 months for each fold\n",
    "preds_3, preds_6, preds_9 = [], [], []\n",
    "target_3, target_6, target_9 = [], [], []\n",
    "\n",
    "# create empty list for residuals\n",
    "res = []\n",
    "\n",
    "# create figure for residuals of each cv\n",
    "fig, ax = plt.subplots(figsize=(10, 4))\n",
    "plt.plot(series.index, series, label=\"Target\", color=\"blue\")\n",
    "plt.title(\"Target vs. Predictions per Fold\")\n",
    "plt.xlabel(\"Time\")\n",
    "plt.ylabel(\"Best Compound Price\")\n",
    "\n",
    "for i, (train_idx, test_idx) in enumerate(spl):\n",
    "    # create train and test data and append target for fold fold\n",
    "    train = series.iloc[train_idx]\n",
    "    test = series.iloc[test_idx]\n",
    "    target_3.append(test[2])\n",
    "    target_6.append(test[5])\n",
    "    target_9.append(test[8])\n",
    "\n",
    "    # train model for fold\n",
    "    model = ARIMA(\n",
    "        train,\n",
    "        order=target_model[\"order\"],\n",
    "        seasonal_order=target_model[\"seasonal_order\"],\n",
    "    )\n",
    "    model_fit = model.fit()\n",
    "\n",
    "    # use model to predict on test index\n",
    "    # append predictions for 3, 6, and 9 months for fold\n",
    "    preds = model_fit.predict(start=test.index[0], end=test.index[-1])\n",
    "    preds_3.append(preds[2])\n",
    "    preds_6.append(preds[5])\n",
    "    preds_9.append(preds[8])\n",
    "\n",
    "    if i == 0:\n",
    "        plt.plot(test.index, preds, label=\"Validation\", color=\"orange\")\n",
    "    else:\n",
    "        plt.plot(test.index, preds, color=\"orange\")\n",
    "    plt.plot(test.index[2::3], preds[2::3], \".\", color=\"orange\")\n",
    "\n",
    "    # calculate residuals for all test data\n",
    "    res.append(test - preds)\n",
    "\n",
    "# train model on all data and add predictions to plot\n",
    "model = ARIMA(\n",
    "    series,\n",
    "    order=target_model[\"order\"],\n",
    "    seasonal_order=target_model[\"seasonal_order\"],\n",
    ")\n",
    "model_fit = model.fit()\n",
    "preds = model_fit.predict(start=idx[0], end=idx[-1])\n",
    "\n",
    "# plot predictions for future\n",
    "plt.plot(idx, preds, color=\"black\", label=\"Prediction\")\n",
    "plt.plot(idx[2::3], preds[2::3], \".\", color=\"black\")\n",
    "\n",
    "# add confidence bounds for future predictions\n",
    "conf = model_fit.get_forecast(steps=9).summary_frame()\n",
    "ax.fill_between(\n",
    "    conf.index,\n",
    "    conf[\"mean_ci_lower\"],\n",
    "    conf[\"mean_ci_upper\"],\n",
    "    color=\"k\",\n",
    "    alpha=0.1,\n",
    ")\n",
    "\n",
    "plt.legend(loc=\"upper left\")"
   ]
  },
  {
   "cell_type": "code",
   "execution_count": null,
   "metadata": {},
   "outputs": [],
   "source": [
    "# calculate sMAPE for 3, 6, and 9 months\n",
    "smape_3 = smape(np.array(target_3), np.array(preds_3))\n",
    "smape_6 = smape(np.array(target_6), np.array(preds_6))\n",
    "smape_9 = smape(np.array(target_9), np.array(preds_9))\n",
    "\n",
    "# calculate MAE for 3, 6, and 9 months\n",
    "mae_3 = mae(np.array(target_3), np.array(preds_3))\n",
    "mae_6 = mae(np.array(target_6), np.array(preds_6))\n",
    "mae_9 = mae(np.array(target_9), np.array(preds_9))"
   ]
  },
  {
   "cell_type": "code",
   "execution_count": null,
   "metadata": {},
   "outputs": [],
   "source": [
    "print(\"** Fold-averaged results for time horizons **\")\n",
    "print(\"3 months:\\n\", f\"- sMAPE: {smape_3:.2f}% \\n\", f\"- MAE: {mae_3:.2f}\")\n",
    "print(\"6 months:\\n\", f\"- sMAPE: {smape_6:.2f}% \\n\", f\"- MAE: {mae_6:.2f}\")\n",
    "print(\"9 months:\\n\", f\"- sMAPE: {smape_9:.2f}% \\n\", f\"- MAE: {mae_9:.2f}\")"
   ]
  },
  {
   "cell_type": "code",
   "execution_count": null,
   "metadata": {},
   "outputs": [],
   "source": [
    "# plot residuals\n",
    "plt.figure(figsize=(10, 4))\n",
    "plt.title(\"Residuals\")\n",
    "plt.axhline(\n",
    "    0, color=\"red\", linestyle=\"--\", linewidth=2, label=\"Zero Residuals\"\n",
    ")\n",
    "for residual in res:\n",
    "    plt.plot(residual.index, residual, label=\"Residuals\", color=\"blue\")"
   ]
  },
  {
   "cell_type": "markdown",
   "metadata": {},
   "source": [
    "## Feature Importance\n",
    "\n",
    "Get the feature importance of the best univariate model on the last fold (most train data) for explainability."
   ]
  },
  {
   "cell_type": "code",
   "execution_count": null,
   "metadata": {},
   "outputs": [],
   "source": [
    "print(model_fit.summary())"
   ]
  },
  {
   "cell_type": "markdown",
   "metadata": {},
   "source": [
    "## CV Folds for Explainability"
   ]
  },
  {
   "cell_type": "code",
   "execution_count": null,
   "metadata": {},
   "outputs": [],
   "source": [
    "# get time series for target and cv-splits\n",
    "series = df[target].copy().dropna()\n",
    "spl = time_split(series)\n",
    "\n",
    "# create figure for residuals of each cv\n",
    "fig, ax = plt.subplots(figsize=(13, 3))\n",
    "plt.plot(series.index, series, label=\"Target\", color=\"black\")\n",
    "plt.xlabel(\"Time\")\n",
    "plt.ylabel(\"Best Compound Price\")\n",
    "\n",
    "for i, (train_idx, test_idx) in enumerate(spl):\n",
    "    # create train and test data and append target for fold fold\n",
    "    train = series.iloc[train_idx]\n",
    "    test = series.iloc[test_idx]\n",
    "\n",
    "    plt.axvline(test.index[0], linestyle=\"--\", color=\"grey\")\n",
    "    plt.text(\n",
    "        test.index[2],\n",
    "        3600,\n",
    "        \"fold %d\" % (i + 1),\n",
    "        verticalalignment=\"center\",\n",
    "        color=\"grey\",\n",
    "    )"
   ]
  },
  {
   "cell_type": "code",
   "execution_count": null,
   "metadata": {},
   "outputs": [],
   "source": []
  }
 ],
 "metadata": {
  "kernelspec": {
   "display_name": ".venv",
   "language": "python",
   "name": "python3"
  },
  "language_info": {
   "codemirror_mode": {
    "name": "ipython",
    "version": 3
   },
   "file_extension": ".py",
   "mimetype": "text/x-python",
   "name": "python",
   "nbconvert_exporter": "python",
   "pygments_lexer": "ipython3",
   "version": "3.10.7"
  }
 },
 "nbformat": 4,
 "nbformat_minor": 2
}
