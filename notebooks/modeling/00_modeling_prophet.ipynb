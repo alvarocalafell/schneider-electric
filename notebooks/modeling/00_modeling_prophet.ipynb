{
 "cells": [
  {
   "cell_type": "code",
   "execution_count": null,
   "metadata": {},
   "outputs": [],
   "source": [
    "from pathlib import Path\n",
    "\n",
    "import matplotlib.pyplot as plt\n",
    "import pandas as pd\n",
    "from prophet import Prophet\n",
    "\n",
    "from config.config_data import MAIN_FILE\n",
    "from src.data_preprocessing.data_loader import time_split\n",
    "from src.modeling.evaluation import smape, mae"
   ]
  },
  {
   "cell_type": "code",
   "execution_count": null,
   "metadata": {},
   "outputs": [],
   "source": [
    "DATA_DIR = (\n",
    "    Path(\"..\")\n",
    "    / \"..\"\n",
    "    / \"..\"\n",
    "    / \"hfactory_magic_folders\"\n",
    "    / \"plastic_cost_prediction\"\n",
    "    / \"data\"\n",
    ")"
   ]
  },
  {
   "cell_type": "code",
   "execution_count": null,
   "metadata": {},
   "outputs": [],
   "source": [
    "df = pd.read_csv(DATA_DIR / MAIN_FILE)"
   ]
  },
  {
   "cell_type": "code",
   "execution_count": null,
   "metadata": {},
   "outputs": [],
   "source": [
    "ts = df[[\"time\", \"best_price_compound\"]]  # .dropna()\n",
    "ts[\"time\"] = pd.to_datetime(ts[\"time\"])\n",
    "ts.columns = [\"ds\", \"y\"]"
   ]
  },
  {
   "cell_type": "code",
   "execution_count": null,
   "metadata": {},
   "outputs": [],
   "source": [
    "spl = time_split(ts)\n",
    "sMAPE_total, MAE_total = 0.0, 0.0\n",
    "\n",
    "# iterate over cv folds\n",
    "for train_idx, test_idx in spl:\n",
    "    train = ts.iloc[train_idx]\n",
    "    test = ts.iloc[test_idx]\n",
    "\n",
    "    m = Prophet(\n",
    "        changepoint_prior_scale=0.5, seasonality_mode=\"multiplicative\"\n",
    "    )  #\n",
    "    m.fit(train)\n",
    "    future = m.make_future_dataframe(periods=9, freq=\"MS\")\n",
    "    forecast = m.predict(future)\n",
    "    m.plot(forecast)\n",
    "    plt.plot(test[\"ds\"], test[\"y\"], \".\", color=\"red\")\n",
    "\n",
    "    # predictions are constant of last observation in train data\n",
    "    preds = forecast[\"yhat\"].tail(9).iloc[2::3].to_numpy()\n",
    "\n",
    "    # get avg. sMAPE and MAE over 3, 6, 9 months on test data for fold\n",
    "    sMAPE = smape(test.iloc[2::3, 1].to_numpy(), preds)\n",
    "    MAE = mae(test.iloc[2::3, 1].to_numpy(), preds)\n",
    "    sMAPE_total += sMAPE\n",
    "    MAE_total += MAE\n",
    "    print(sMAPE)\n",
    "\n",
    "# average MAE and sMAPE over folds\n",
    "avg_sMAPE = sMAPE_total / len(spl)\n",
    "avg_MAE = MAE_total / len(spl)"
   ]
  },
  {
   "cell_type": "code",
   "execution_count": null,
   "metadata": {},
   "outputs": [],
   "source": [
    "avg_sMAPE"
   ]
  },
  {
   "cell_type": "code",
   "execution_count": null,
   "metadata": {},
   "outputs": [],
   "source": []
  }
 ],
 "metadata": {
  "kernelspec": {
   "display_name": ".venv",
   "language": "python",
   "name": "python3"
  },
  "language_info": {
   "codemirror_mode": {
    "name": "ipython",
    "version": 3
   },
   "file_extension": ".py",
   "mimetype": "text/x-python",
   "name": "python",
   "nbconvert_exporter": "python",
   "pygments_lexer": "ipython3",
   "version": "3.10.7"
  }
 },
 "nbformat": 4,
 "nbformat_minor": 2
}
