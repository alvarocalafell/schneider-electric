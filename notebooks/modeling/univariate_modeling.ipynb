{
 "cells": [
  {
   "attachments": {},
   "cell_type": "markdown",
   "metadata": {},
   "source": [
    "# Univariate Models"
   ]
  },
  {
   "cell_type": "code",
   "execution_count": null,
   "metadata": {},
   "outputs": [],
   "source": [
    "from pathlib import Path\n",
    "\n",
    "import matplotlib.pyplot as plt\n",
    "import numpy as np\n",
    "import pandas as pd\n",
    "\n",
    "from src.data_preprocessing.data_pipeline import data_pipeline\n",
    "from src.modeling.univariate_modeling import get_arima_model\n",
    "from src.modeling.evaluation import smape, mae"
   ]
  },
  {
   "cell_type": "code",
   "execution_count": null,
   "metadata": {},
   "outputs": [],
   "source": [
    "DATA_DIR = (\n",
    "    Path(\"..\")\n",
    "    / \"..\"\n",
    "    / \"..\"\n",
    "    / \"hfactory_magic_folders\"\n",
    "    / \"plastic_cost_prediction\"\n",
    "    / \"data\"\n",
    ")\n",
    "MAIN_FILE = \"PA6_cleaned_dataset.csv\""
   ]
  },
  {
   "cell_type": "code",
   "execution_count": null,
   "metadata": {},
   "outputs": [],
   "source": [
    "df, _ = data_pipeline(DATA_DIR / MAIN_FILE)"
   ]
  },
  {
   "cell_type": "code",
   "execution_count": null,
   "metadata": {},
   "outputs": [],
   "source": [
    "models = get_arima_model(df)"
   ]
  },
  {
   "cell_type": "code",
   "execution_count": null,
   "metadata": {},
   "outputs": [],
   "source": [
    "for col, model in models.items():\n",
    "    d = model.model.order[1]\n",
    "    y_true = df[col].dropna().iloc[d:]\n",
    "    time = y_true.index\n",
    "    y_pred = model.fittedvalues.iloc[d:]\n",
    "\n",
    "    print(f\"*** {col} ***\")\n",
    "    print(f\"sMAPE: {smape(y_true.values, y_pred.values):.2f}%\")\n",
    "    print(f\"MAE: {mae(y_true.values, y_pred.values):.2f}\")\n",
    "\n",
    "    # model summary\n",
    "    print(model.summary())\n",
    "\n",
    "    # plotting the original series and the fitted values\n",
    "    plt.figure(figsize=(10, 6))\n",
    "    plt.plot(time, y_true, label=\"Actual Series\")\n",
    "    plt.plot(time, y_pred, label=\"Fitted Values\", linestyle=\"dashed\")\n",
    "    plt.xlabel(\"Time\")\n",
    "    plt.ylabel(\"Values\")\n",
    "    plt.legend()\n",
    "    plt.show()\n",
    "\n",
    "    # line plot of residuals\n",
    "    residuals = pd.DataFrame(model.resid)\n",
    "    residuals.plot()\n",
    "    plt.title(\"Residuals\")\n",
    "    plt.show()\n",
    "    print(\"--------------------------------\")"
   ]
  },
  {
   "cell_type": "code",
   "execution_count": null,
   "metadata": {},
   "outputs": [],
   "source": []
  }
 ],
 "metadata": {
  "kernelspec": {
   "display_name": ".venv",
   "language": "python",
   "name": "python3"
  },
  "language_info": {
   "codemirror_mode": {
    "name": "ipython",
    "version": 3
   },
   "file_extension": ".py",
   "mimetype": "text/x-python",
   "name": "python",
   "nbconvert_exporter": "python",
   "pygments_lexer": "ipython3",
   "version": "3.10.12"
  }
 },
 "nbformat": 4,
 "nbformat_minor": 2
}
