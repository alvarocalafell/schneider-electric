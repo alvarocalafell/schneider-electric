{
 "cells": [
  {
   "attachments": {},
   "cell_type": "markdown",
   "metadata": {},
   "source": [
    "# Univariate Models"
   ]
  },
  {
   "cell_type": "code",
   "execution_count": null,
   "metadata": {},
   "outputs": [],
   "source": [
    "# TODO: look at residuals\n",
    "# Line plot of residuals\n",
    "# residuals_ets = y_true_ets - y_pred_ets\n",
    "# plt.figure(figsize=(10, 4))\n",
    "# plt.plot(y_true_ets.index, residuals_ets, label=\"Residuals\")\n",
    "# plt.axhline(\n",
    "#     0, color=\"red\", linestyle=\"--\", linewidth=2, label=\"Zero Residuals\"\n",
    "# )\n",
    "# plt.xlabel(\"Time\")\n",
    "# plt.ylabel(\"Residuals\")\n",
    "# plt.legend()\n",
    "# plt.title(f\"{col_ets} - Residuals (ETS Model)\")\n",
    "# plt.show()"
   ]
  },
  {
   "cell_type": "code",
   "execution_count": null,
   "metadata": {},
   "outputs": [],
   "source": [
    "from pathlib import Path\n",
    "\n",
    "import matplotlib.pyplot as plt\n",
    "import numpy as np\n",
    "from statsmodels.tsa.arima.model import ARIMA\n",
    "\n",
    "from src.data_preprocessing.data_loader import load_data, time_split\n",
    "from src.modeling.evaluation import smape, mae\n",
    "from src.modeling.univariate_modeling import get_best_cv_model"
   ]
  },
  {
   "cell_type": "code",
   "execution_count": null,
   "metadata": {},
   "outputs": [],
   "source": [
    "DATA_DIR = (\n",
    "    Path(\"..\")\n",
    "    / \"..\"\n",
    "    / \"..\"\n",
    "    / \"hfactory_magic_folders\"\n",
    "    / \"plastic_cost_prediction\"\n",
    "    / \"data\"\n",
    ")\n",
    "MAIN_FILE = \"PA6_cleaned_dataset.csv\""
   ]
  },
  {
   "cell_type": "code",
   "execution_count": null,
   "metadata": {},
   "outputs": [],
   "source": [
    "df = load_data(DATA_DIR / MAIN_FILE)"
   ]
  },
  {
   "cell_type": "code",
   "execution_count": null,
   "metadata": {},
   "outputs": [],
   "source": [
    "models = get_best_cv_model(df)"
   ]
  },
  {
   "cell_type": "code",
   "execution_count": null,
   "metadata": {},
   "outputs": [],
   "source": [
    "color_dict = {\n",
    "    \"baseline\": \"grey\",\n",
    "    \"ARIMA\": \"orange\",\n",
    "    \"ETS\": \"blue\",\n",
    "    \"XGB\": \"green\",\n",
    "}\n",
    "\n",
    "for col in models:\n",
    "    series = df[col].copy().dropna()\n",
    "    y_train = series.iloc[:-9]\n",
    "    y_test = series.iloc[-9:]\n",
    "\n",
    "    plt.figure(figsize=(10, 6))\n",
    "    plt.plot(y_train.index, y_train, label=\"Training data\", color=\"black\")\n",
    "    plt.plot(y_test.index, y_test, label=\"Test data\", color=\"red\")\n",
    "\n",
    "    for model in models[col]:\n",
    "        if model not in [\"selected\", \"XGB\"]:\n",
    "            plt.plot(\n",
    "                y_test.index,\n",
    "                models[col][model][\"preds\"],\n",
    "                label=model,\n",
    "                color=color_dict[model],\n",
    "            )\n",
    "        elif model == \"XGB\":\n",
    "            plt.plot(\n",
    "                y_test.index[2::3],\n",
    "                models[col][model][\"preds\"],\n",
    "                \".\",\n",
    "                label=model,\n",
    "                color=color_dict[model],\n",
    "            )\n",
    "\n",
    "    plt.xlabel(\"Time\")\n",
    "    plt.ylabel(\"Values\")\n",
    "    plt.legend()\n",
    "    plt.title(\n",
    "        f\"{col} - Actual vs Predictions \\n Final Model: {models[col]['selected']}\"\n",
    "    )\n",
    "    plt.show()"
   ]
  },
  {
   "cell_type": "markdown",
   "metadata": {},
   "source": [
    "## Best Univariate Model for the Target\n",
    "\n",
    "We want to invesigate the average performance across folds for each time horizon (3-6-9 months) of the best model."
   ]
  },
  {
   "cell_type": "code",
   "execution_count": null,
   "metadata": {},
   "outputs": [],
   "source": [
    "target = \"best_price_compound\""
   ]
  },
  {
   "cell_type": "code",
   "execution_count": null,
   "metadata": {},
   "outputs": [],
   "source": [
    "series = df[target].copy().dropna()\n",
    "target_model = models[target][models[target][\"selected\"]]\n",
    "spl = time_split(series)\n",
    "preds_3, preds_6, preds_9 = [], [], []\n",
    "target_3, target_6, target_9 = [], [], []\n",
    "\n",
    "for train_idx, test_idx in spl:\n",
    "    train = series.iloc[train_idx]\n",
    "    test = series.iloc[test_idx]\n",
    "    model = ARIMA(\n",
    "        train,\n",
    "        order=target_model[\"order\"],\n",
    "        seasonal_order=target_model[\"seasonal_order\"],\n",
    "    )\n",
    "    model_fit = model.fit()\n",
    "    preds = model_fit.predict(start=test.index[0], end=test.index[-1])\n",
    "    preds_3.append(preds[2])\n",
    "    preds_6.append(preds[5])\n",
    "    preds_9.append(preds[8])\n",
    "    target_3.append(test[2])\n",
    "    target_6.append(test[5])\n",
    "    target_9.append(test[8])"
   ]
  },
  {
   "cell_type": "code",
   "execution_count": null,
   "metadata": {},
   "outputs": [],
   "source": [
    "smape_3 = smape(np.array(target_3), np.array(preds_3))\n",
    "smape_6 = smape(np.array(target_6), np.array(preds_6))\n",
    "smape_9 = smape(np.array(target_9), np.array(preds_9))\n",
    "\n",
    "mae_3 = mae(np.array(target_3), np.array(preds_3))\n",
    "mae_6 = mae(np.array(target_6), np.array(preds_6))\n",
    "mae_9 = mae(np.array(target_9), np.array(preds_9))"
   ]
  },
  {
   "cell_type": "code",
   "execution_count": null,
   "metadata": {},
   "outputs": [],
   "source": [
    "print(\"3 months:\\n\", f\"- sMAPE: {smape_3:.2f}% \\n\", f\"- MAE: {mae_3:.2f}\")\n",
    "print(\"6 months:\\n\", f\"- sMAPE: {smape_6:.2f}% \\n\", f\"- MAE: {mae_6:.2f}\")\n",
    "print(\"9 months:\\n\", f\"- sMAPE: {smape_9:.2f}% \\n\", f\"- MAE: {mae_9:.2f}\")"
   ]
  },
  {
   "cell_type": "code",
   "execution_count": null,
   "metadata": {},
   "outputs": [],
   "source": []
  }
 ],
 "metadata": {
  "kernelspec": {
   "display_name": ".venv",
   "language": "python",
   "name": "python3"
  },
  "language_info": {
   "codemirror_mode": {
    "name": "ipython",
    "version": 3
   },
   "file_extension": ".py",
   "mimetype": "text/x-python",
   "name": "python",
   "nbconvert_exporter": "python",
   "pygments_lexer": "ipython3",
   "version": "3.10.7"
  }
 },
 "nbformat": 4,
 "nbformat_minor": 2
}
