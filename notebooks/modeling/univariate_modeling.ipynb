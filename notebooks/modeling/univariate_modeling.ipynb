{
 "cells": [
  {
   "attachments": {},
   "cell_type": "markdown",
   "metadata": {},
   "source": [
    "# Univariate Models"
   ]
  },
  {
   "cell_type": "code",
   "execution_count": null,
   "metadata": {},
   "outputs": [],
   "source": [
    "from pathlib import Path\n",
    "\n",
    "import matplotlib.pyplot as plt\n",
    "import pandas as pd\n",
    "\n",
    "from src.data_preprocessing.data_loader import load_data\n",
    "from src.modeling.univariate_modeling import get_arima_model, get_ets_model\n",
    "from src.modeling.evaluation import smape, mae"
   ]
  },
  {
   "cell_type": "code",
   "execution_count": null,
   "metadata": {},
   "outputs": [],
   "source": [
    "DATA_DIR = (\n",
    "    Path(\"..\")\n",
    "    / \"..\"\n",
    "    / \"..\"\n",
    "    / \"hfactory_magic_folders\"\n",
    "    / \"plastic_cost_prediction\"\n",
    "    / \"data\"\n",
    ")\n",
    "MAIN_FILE = \"PA6_cleaned_dataset.csv\""
   ]
  },
  {
   "cell_type": "code",
   "execution_count": null,
   "metadata": {},
   "outputs": [],
   "source": [
    "df = load_data(DATA_DIR / MAIN_FILE)"
   ]
  },
  {
   "cell_type": "code",
   "execution_count": null,
   "metadata": {},
   "outputs": [],
   "source": [
    "models = get_arima_model(df)"
   ]
  },
  {
   "cell_type": "code",
   "execution_count": null,
   "metadata": {},
   "outputs": [],
   "source": [
    "ets_models = get_ets_model(df)"
   ]
  },
  {
   "cell_type": "code",
   "execution_count": null,
   "metadata": {},
   "outputs": [],
   "source": [
    "for (col_ets, ets_model), (col, model) in zip(\n",
    "    ets_models.items(), models.items()\n",
    "):\n",
    "    # ETS model\n",
    "    series_ets = df[col_ets].copy().dropna()\n",
    "    y_true_ets = series_ets\n",
    "    y_pred_ets = ets_model.fittedvalues\n",
    "\n",
    "    print(f\"*** {col_ets} - ETS Model ***\")\n",
    "    print(f\"sMAPE: {smape(y_true_ets.values, y_pred_ets.values):.2f}%\")\n",
    "    print(f\"MAE: {mae(y_true_ets.values, y_pred_ets.values):.2f}\")\n",
    "\n",
    "    # Model summary\n",
    "    print(ets_model.summary())\n",
    "\n",
    "    # Plotting the original series and the fitted values\n",
    "    plt.figure(figsize=(10, 6))\n",
    "    plt.plot(y_true_ets.index, y_true_ets, label=\"Actual Series\")\n",
    "    plt.plot(\n",
    "        y_true_ets.index, y_pred_ets, label=\"Fitted Values\", linestyle=\"dashed\"\n",
    "    )\n",
    "    plt.xlabel(\"Time\")\n",
    "    plt.ylabel(\"Values\")\n",
    "    plt.legend()\n",
    "    plt.title(f\"{col_ets} - Actual vs Fitted Values (ETS Model)\")\n",
    "    plt.show()\n",
    "\n",
    "    # Line plot of residuals\n",
    "    residuals_ets = y_true_ets - y_pred_ets\n",
    "    plt.figure(figsize=(10, 4))\n",
    "    plt.plot(y_true_ets.index, residuals_ets, label=\"Residuals\")\n",
    "    plt.axhline(\n",
    "        0, color=\"red\", linestyle=\"--\", linewidth=2, label=\"Zero Residuals\"\n",
    "    )\n",
    "    plt.xlabel(\"Time\")\n",
    "    plt.ylabel(\"Residuals\")\n",
    "    plt.legend()\n",
    "    plt.title(f\"{col_ets} - Residuals (ETS Model)\")\n",
    "    plt.show()\n",
    "\n",
    "    print(\"--------------------------------\")\n",
    "\n",
    "    # ARIMA model\n",
    "    d = model.model.order[1]\n",
    "    y_true_arima = df[col].dropna().iloc[d:]\n",
    "    time_arima = y_true_arima.index\n",
    "    y_pred_arima = model.fittedvalues.iloc[d:]\n",
    "\n",
    "    print(f\"*** {col} - ARIMA Model ***\")\n",
    "    print(f\"sMAPE: {smape(y_true_arima.values, y_pred_arima.values):.2f}%\")\n",
    "    print(f\"MAE: {mae(y_true_arima.values, y_pred_arima.values):.2f}\")\n",
    "\n",
    "    # Model summary\n",
    "    print(model.summary())\n",
    "\n",
    "    # Plotting the original series and the fitted values\n",
    "    plt.figure(figsize=(10, 6))\n",
    "    plt.plot(time_arima, y_true_arima, label=\"Actual Series\")\n",
    "    plt.plot(\n",
    "        time_arima, y_pred_arima, label=\"Fitted Values\", linestyle=\"dashed\"\n",
    "    )\n",
    "    plt.xlabel(\"Time\")\n",
    "    plt.ylabel(\"Values\")\n",
    "    plt.legend()\n",
    "    plt.title(f\"{col} - Actual vs Fitted Values (ARIMA Model)\")\n",
    "    plt.show()\n",
    "\n",
    "    # Line plot of residuals\n",
    "    residuals_arima = pd.DataFrame(model.resid)\n",
    "    residuals_arima.plot()\n",
    "    plt.title(f\"{col} - Residuals (ARIMA Model)\")\n",
    "    plt.show()\n",
    "\n",
    "    print(\"--------------------------------\")"
   ]
  },
  {
   "cell_type": "code",
   "execution_count": null,
   "metadata": {},
   "outputs": [],
   "source": [
    "from statsmodels.tsa.arima.model import ARIMA\n",
    "from statsmodels.tsa.holtwinters import ExponentialSmoothing\n",
    "\n",
    "from src.data_preprocessing.data_loader import time_split\n",
    "\n",
    "results = {}\n",
    "\n",
    "for (_, ets_model), (col, model) in zip(ets_models.items(), models.items()):\n",
    "    series = df[col].copy().dropna()\n",
    "    all_splits = time_split(series)\n",
    "\n",
    "    arima_smape, arima_mae, ets_smape, ets_mae = 0, 0, 0, 0\n",
    "\n",
    "    for train_idx, test_idx in all_splits:\n",
    "        train_set = series.iloc[train_idx]\n",
    "        test_set = series.iloc[test_idx]\n",
    "\n",
    "        model_arima = ARIMA(\n",
    "            train_set,\n",
    "            order=model.model.order,\n",
    "            seasonal_order=model.model.seasonal_order,\n",
    "        )\n",
    "        model_arima = model_arima.fit()\n",
    "\n",
    "        model_ets = ExponentialSmoothing(\n",
    "            train_set,\n",
    "            trend=ets_model.model.trend,\n",
    "            seasonal=ets_model.model.seasonal,\n",
    "            seasonal_periods=ets_model.model.seasonal_periods,\n",
    "        )\n",
    "        model_ets = model_ets.fit()\n",
    "\n",
    "        pred_arima = model_arima.predict(\n",
    "            start=test_set.index[0], end=test_set.index[-1]\n",
    "        )\n",
    "        pred_ets = model_ets.predict(\n",
    "            start=test_set.index[0], end=test_set.index[-1]\n",
    "        )\n",
    "\n",
    "        arima_smape += smape(test_set, pred_arima)\n",
    "        arima_mae += mae(test_set, pred_arima)\n",
    "\n",
    "        ets_smape += smape(test_set, pred_ets)\n",
    "        ets_mae += mae(test_set, pred_ets)\n",
    "\n",
    "    results[col] = {\n",
    "        \"ARIMA\": {\n",
    "            \"sMAPE\": round(arima_smape / len(all_splits), 2),\n",
    "            \"MAE\": round(arima_mae / len(all_splits), 2),\n",
    "        },\n",
    "        \"ETS\": {\n",
    "            \"sMAPE\": round(ets_smape / len(all_splits), 2),\n",
    "            \"MAE\": round(ets_mae / len(all_splits), 2),\n",
    "        },\n",
    "    }"
   ]
  },
  {
   "cell_type": "code",
   "execution_count": null,
   "metadata": {},
   "outputs": [],
   "source": [
    "results"
   ]
  },
  {
   "cell_type": "code",
   "execution_count": null,
   "metadata": {},
   "outputs": [],
   "source": [
    "import json\n",
    "\n",
    "with open(\"results.json\", \"w\") as fp:\n",
    "    json.dump(results, fp)"
   ]
  },
  {
   "cell_type": "code",
   "execution_count": null,
   "metadata": {},
   "outputs": [],
   "source": []
  },
  {
   "cell_type": "code",
   "execution_count": null,
   "metadata": {},
   "outputs": [],
   "source": []
  },
  {
   "cell_type": "code",
   "execution_count": null,
   "metadata": {},
   "outputs": [],
   "source": [
    "from config.config_modeling import P_RANGE, Q_RANGE, SEASONAL_TERMS, D\n",
    "import numpy as np\n",
    "import pandas as pd\n",
    "import matplotlib.pyplot as plt\n",
    "from statsmodels.tsa.arima.model import ARIMA\n",
    "from src.data_preprocessing.data_loader import time_split"
   ]
  },
  {
   "cell_type": "code",
   "execution_count": null,
   "metadata": {},
   "outputs": [],
   "source": [
    "DATA_DIR = (\n",
    "    Path(\"..\")\n",
    "    / \"..\"\n",
    "    / \"..\"\n",
    "    / \"hfactory_magic_folders\"\n",
    "    / \"plastic_cost_prediction\"\n",
    "    / \"data\"\n",
    ")\n",
    "MAIN_FILE = \"PA6_cleaned_dataset.csv\""
   ]
  },
  {
   "cell_type": "code",
   "execution_count": null,
   "metadata": {},
   "outputs": [],
   "source": [
    "df = load_data(DATA_DIR / MAIN_FILE)"
   ]
  },
  {
   "cell_type": "code",
   "execution_count": null,
   "metadata": {},
   "outputs": [],
   "source": [
    "def grid_search_arima_cv(ts, p_values, d, q_values, seasonal):\n",
    "    \"\"\"\n",
    "    Performs a grid search for ARIMA based on cross-validated AIC.\n",
    "\n",
    "    Parameters:\n",
    "    - ts: pd.Series\n",
    "    - p_values: List of candidate values for p\n",
    "    - d: d value for difference to make series stationary\n",
    "    - q_values: List of candidate values for q\n",
    "    - splits: List of index tuples for each train-test split\n",
    "\n",
    "    Returns:\n",
    "    - Best ARIMA model order (p, d, q)\n",
    "    \"\"\"\n",
    "    best_sMAPE = float(\"inf\")\n",
    "    best_order = None\n",
    "    # values = {}\n",
    "    spl = time_split(series)\n",
    "\n",
    "    for p in p_values:\n",
    "        for q in q_values:\n",
    "            order = (p, d, q)\n",
    "            sMAPE_total = 0.0\n",
    "\n",
    "            for train_idx, test_idx in spl:\n",
    "                train = ts.iloc[train_idx]\n",
    "                test = ts.iloc[test_idx]\n",
    "                model = ARIMA(train, order=order, seasonal_order=seasonal)\n",
    "                model_fit = model.fit()\n",
    "                preds = model_fit.predict(\n",
    "                    start=test.index[0], end=test.index[-1]\n",
    "                )\n",
    "                sMAPE = smape(test, preds)\n",
    "                sMAPE_total += sMAPE\n",
    "\n",
    "            avg_sMAPE = sMAPE_total / len(spl)\n",
    "            # values[order] = avg_sMAPE\n",
    "\n",
    "            if avg_sMAPE < best_sMAPE:\n",
    "                best_sMAPE = avg_sMAPE\n",
    "                best_order = order\n",
    "\n",
    "    return best_order, best_sMAPE\n",
    "\n",
    "\n",
    "# Example usage:\n",
    "# Assuming df is your DataFrame with a time series column\n",
    "# Assuming splits is a list of tuples containing indices for each train-test split\n",
    "# p_values = range(0, 4)\n",
    "# d = 1\n",
    "# q_values = range(0, 4)\n",
    "\n",
    "# best_order = grid_search_arima_cv(series, p_values, d, q_values, splits)\n",
    "# print(f\"Best ARIMA Order: {best_order}\")"
   ]
  },
  {
   "cell_type": "code",
   "execution_count": null,
   "metadata": {},
   "outputs": [],
   "source": [
    "results = {}\n",
    "\n",
    "models = {}\n",
    "for col in df.columns:\n",
    "    if col not in Q_RANGE.keys():\n",
    "        continue\n",
    "\n",
    "    series = df[col].copy()\n",
    "    series.index = series.index.to_period(\"M\")\n",
    "    series = series.dropna()\n",
    "\n",
    "    best_order, best_sMAPE = grid_search_arima_cv(\n",
    "        series,\n",
    "        P_RANGE[col],\n",
    "        D[col],\n",
    "        Q_RANGE[col],\n",
    "        SEASONAL_TERMS.get(col, (0, 0, 0, 0)),\n",
    "    )\n",
    "\n",
    "    results[col] = {\"order\": best_order, \"sMPAE\": best_sMAPE}"
   ]
  },
  {
   "cell_type": "code",
   "execution_count": null,
   "metadata": {},
   "outputs": [],
   "source": [
    "results"
   ]
  },
  {
   "cell_type": "code",
   "execution_count": null,
   "metadata": {},
   "outputs": [],
   "source": [
    "import json\n",
    "\n",
    "with open(\"results_arima_cv_model_selection.json\", \"w\") as fp:\n",
    "    json.dump(results, fp)"
   ]
  },
  {
   "cell_type": "code",
   "execution_count": null,
   "metadata": {},
   "outputs": [],
   "source": []
  }
 ],
 "metadata": {
  "kernelspec": {
   "display_name": ".venv",
   "language": "python",
   "name": "python3"
  },
  "language_info": {
   "codemirror_mode": {
    "name": "ipython",
    "version": 3
   },
   "file_extension": ".py",
   "mimetype": "text/x-python",
   "name": "python",
   "nbconvert_exporter": "python",
   "pygments_lexer": "ipython3",
   "version": "3.10.7"
  }
 },
 "nbformat": 4,
 "nbformat_minor": 2
}
