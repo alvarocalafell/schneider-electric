{
 "cells": [
  {
   "attachments": {},
   "cell_type": "markdown",
   "metadata": {},
   "source": [
    "# Univariate Models"
   ]
  },
  {
   "cell_type": "code",
   "execution_count": null,
   "metadata": {},
   "outputs": [],
   "source": [
    "from pathlib import Path\n",
    "\n",
    "import matplotlib.pyplot as plt\n",
    "import pandas as pd\n",
    "\n",
    "from src.data_preprocessing.data_loader import load_data\n",
    "from src.modeling.univariate_modeling import get_arima_model, get_ets_model\n",
    "from src.modeling.evaluation import smape, mae"
   ]
  },
  {
   "cell_type": "code",
   "execution_count": null,
   "metadata": {},
   "outputs": [],
   "source": [
    "DATA_DIR = (\n",
    "    Path(\"..\")\n",
    "    / \"..\"\n",
    "    / \"..\"\n",
    "    / \"hfactory_magic_folders\"\n",
    "    / \"plastic_cost_prediction\"\n",
    "    / \"data\"\n",
    ")\n",
    "MAIN_FILE = \"PA6_cleaned_dataset.csv\""
   ]
  },
  {
   "cell_type": "code",
   "execution_count": null,
   "metadata": {},
   "outputs": [],
   "source": [
    "df = load_data(DATA_DIR / MAIN_FILE)"
   ]
  },
  {
   "cell_type": "code",
   "execution_count": null,
   "metadata": {},
   "outputs": [],
   "source": [
    "models = get_arima_model(df)"
   ]
  },
  {
   "cell_type": "code",
   "execution_count": null,
   "metadata": {},
   "outputs": [],
   "source": [
    "ets_models = get_ets_model(df)"
   ]
  },
  {
   "cell_type": "code",
   "execution_count": null,
   "metadata": {},
   "outputs": [],
   "source": [
    "for (col_ets, ets_model), (col, model) in zip(\n",
    "    ets_models.items(), models.items()\n",
    "):\n",
    "    # ETS model\n",
    "    series_ets = df[col_ets].copy().dropna()\n",
    "    y_true_ets = series_ets\n",
    "    y_pred_ets = ets_model.fittedvalues\n",
    "\n",
    "    print(f\"*** {col_ets} - ETS Model ***\")\n",
    "    print(f\"sMAPE: {smape(y_true_ets.values, y_pred_ets.values):.2f}%\")\n",
    "    print(f\"MAE: {mae(y_true_ets.values, y_pred_ets.values):.2f}\")\n",
    "\n",
    "    # Model summary\n",
    "    print(ets_model.summary())\n",
    "\n",
    "    # Plotting the original series and the fitted values\n",
    "    plt.figure(figsize=(10, 6))\n",
    "    plt.plot(y_true_ets.index, y_true_ets, label=\"Actual Series\")\n",
    "    plt.plot(\n",
    "        y_true_ets.index, y_pred_ets, label=\"Fitted Values\", linestyle=\"dashed\"\n",
    "    )\n",
    "    plt.xlabel(\"Time\")\n",
    "    plt.ylabel(\"Values\")\n",
    "    plt.legend()\n",
    "    plt.title(f\"{col_ets} - Actual vs Fitted Values (ETS Model)\")\n",
    "    plt.show()\n",
    "\n",
    "    # Line plot of residuals\n",
    "    residuals_ets = y_true_ets - y_pred_ets\n",
    "    plt.figure(figsize=(10, 4))\n",
    "    plt.plot(y_true_ets.index, residuals_ets, label=\"Residuals\")\n",
    "    plt.axhline(\n",
    "        0, color=\"red\", linestyle=\"--\", linewidth=2, label=\"Zero Residuals\"\n",
    "    )\n",
    "    plt.xlabel(\"Time\")\n",
    "    plt.ylabel(\"Residuals\")\n",
    "    plt.legend()\n",
    "    plt.title(f\"{col_ets} - Residuals (ETS Model)\")\n",
    "    plt.show()\n",
    "\n",
    "    print(\"--------------------------------\")\n",
    "\n",
    "    # ARIMA model\n",
    "    d = model.model.order[1]\n",
    "    y_true_arima = df[col].dropna().iloc[d:]\n",
    "    time_arima = y_true_arima.index\n",
    "    y_pred_arima = model.fittedvalues.iloc[d:]\n",
    "\n",
    "    print(f\"*** {col} - ARIMA Model ***\")\n",
    "    print(f\"sMAPE: {smape(y_true_arima.values, y_pred_arima.values):.2f}%\")\n",
    "    print(f\"MAE: {mae(y_true_arima.values, y_pred_arima.values):.2f}\")\n",
    "\n",
    "    # Model summary\n",
    "    print(model.summary())\n",
    "\n",
    "    # Plotting the original series and the fitted values\n",
    "    plt.figure(figsize=(10, 6))\n",
    "    plt.plot(time_arima, y_true_arima, label=\"Actual Series\")\n",
    "    plt.plot(\n",
    "        time_arima, y_pred_arima, label=\"Fitted Values\", linestyle=\"dashed\"\n",
    "    )\n",
    "    plt.xlabel(\"Time\")\n",
    "    plt.ylabel(\"Values\")\n",
    "    plt.legend()\n",
    "    plt.title(f\"{col} - Actual vs Fitted Values (ARIMA Model)\")\n",
    "    plt.show()\n",
    "\n",
    "    # Line plot of residuals\n",
    "    residuals_arima = pd.DataFrame(model.resid)\n",
    "    residuals_arima.plot()\n",
    "    plt.title(f\"{col} - Residuals (ARIMA Model)\")\n",
    "    plt.show()\n",
    "\n",
    "    print(\"--------------------------------\")"
   ]
  },
  {
   "cell_type": "code",
   "execution_count": null,
   "metadata": {},
   "outputs": [],
   "source": []
  }
 ],
 "metadata": {
  "kernelspec": {
   "display_name": ".venv",
   "language": "python",
   "name": "python3"
  },
  "language_info": {
   "codemirror_mode": {
    "name": "ipython",
    "version": 3
   },
   "file_extension": ".py",
   "mimetype": "text/x-python",
   "name": "python",
   "nbconvert_exporter": "python",
   "pygments_lexer": "ipython3",
   "version": "3.10.7"
  }
 },
 "nbformat": 4,
 "nbformat_minor": 2
}
