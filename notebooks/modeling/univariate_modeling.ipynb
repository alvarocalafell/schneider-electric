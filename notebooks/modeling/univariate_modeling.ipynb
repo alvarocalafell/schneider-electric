{
 "cells": [
  {
   "attachments": {},
   "cell_type": "markdown",
   "metadata": {},
   "source": [
    "# Univariate Models"
   ]
  },
  {
   "cell_type": "code",
   "execution_count": null,
   "metadata": {},
   "outputs": [],
   "source": [
    "# TODO: look at residuals\n",
    "# Line plot of residuals\n",
    "# residuals_ets = y_true_ets - y_pred_ets\n",
    "# plt.figure(figsize=(10, 4))\n",
    "# plt.plot(y_true_ets.index, residuals_ets, label=\"Residuals\")\n",
    "# plt.axhline(\n",
    "#     0, color=\"red\", linestyle=\"--\", linewidth=2, label=\"Zero Residuals\"\n",
    "# )\n",
    "# plt.xlabel(\"Time\")\n",
    "# plt.ylabel(\"Residuals\")\n",
    "# plt.legend()\n",
    "# plt.title(f\"{col_ets} - Residuals (ETS Model)\")\n",
    "# plt.show()"
   ]
  },
  {
   "cell_type": "code",
   "execution_count": null,
   "metadata": {},
   "outputs": [],
   "source": [
    "from pathlib import Path\n",
    "\n",
    "import matplotlib.pyplot as plt\n",
    "\n",
    "from src.data_preprocessing.data_loader import load_data\n",
    "from src.modeling.univariate_modeling import get_best_cv_model"
   ]
  },
  {
   "cell_type": "code",
   "execution_count": null,
   "metadata": {},
   "outputs": [],
   "source": [
    "DATA_DIR = (\n",
    "    Path(\"..\")\n",
    "    / \"..\"\n",
    "    / \"..\"\n",
    "    / \"hfactory_magic_folders\"\n",
    "    / \"plastic_cost_prediction\"\n",
    "    / \"data\"\n",
    ")\n",
    "MAIN_FILE = \"PA6_cleaned_dataset.csv\""
   ]
  },
  {
   "cell_type": "code",
   "execution_count": null,
   "metadata": {},
   "outputs": [],
   "source": [
    "df = load_data(DATA_DIR / MAIN_FILE)"
   ]
  },
  {
   "cell_type": "code",
   "execution_count": null,
   "metadata": {},
   "outputs": [],
   "source": [
    "models = get_best_cv_model(df)"
   ]
  },
  {
   "cell_type": "code",
   "execution_count": null,
   "metadata": {},
   "outputs": [],
   "source": [
    "color_dict = {\n",
    "    \"baseline\": \"grey\",\n",
    "    \"ARIMA\": \"orange\",\n",
    "    \"ETS\": \"blue\",\n",
    "    \"XGB\": \"green\",\n",
    "}\n",
    "\n",
    "for col in models:\n",
    "    series = df[col].copy().dropna()\n",
    "    y_train = series.iloc[:-9]\n",
    "    y_test = series.iloc[-9:]\n",
    "\n",
    "    plt.figure(figsize=(10, 6))\n",
    "    plt.plot(y_train.index, y_train, label=\"Training data\", color=\"black\")\n",
    "    plt.plot(y_test.index, y_test, label=\"Test data\", color=\"red\")\n",
    "\n",
    "    for model in models[col]:\n",
    "        if model not in [\"selected\", \"XGB\"]:\n",
    "            plt.plot(\n",
    "                y_test.index,\n",
    "                models[col][model][\"preds\"],\n",
    "                label=model,\n",
    "                color=color_dict[model],\n",
    "            )\n",
    "        elif model == \"XGB\":\n",
    "            plt.plot(\n",
    "                y_test.index[2::3],\n",
    "                models[col][model][\"preds\"],\n",
    "                \".\",\n",
    "                label=model,\n",
    "                color=color_dict[model],\n",
    "            )\n",
    "\n",
    "    plt.xlabel(\"Time\")\n",
    "    plt.ylabel(\"Values\")\n",
    "    plt.legend()\n",
    "    plt.title(\n",
    "        f\"{col} - Actual vs Predictions \\n Final Model: {models[col]['selected']}\"\n",
    "    )\n",
    "    plt.show()"
   ]
  },
  {
   "cell_type": "code",
   "execution_count": null,
   "metadata": {},
   "outputs": [],
   "source": []
  }
 ],
 "metadata": {
  "kernelspec": {
   "display_name": ".venv",
   "language": "python",
   "name": "python3"
  },
  "language_info": {
   "codemirror_mode": {
    "name": "ipython",
    "version": 3
   },
   "file_extension": ".py",
   "mimetype": "text/x-python",
   "name": "python",
   "nbconvert_exporter": "python",
   "pygments_lexer": "ipython3",
   "version": "3.10.7"
  }
 },
 "nbformat": 4,
 "nbformat_minor": 2
}
