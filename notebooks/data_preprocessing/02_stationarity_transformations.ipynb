{
 "cells": [
  {
   "attachments": {},
   "cell_type": "markdown",
   "metadata": {},
   "source": [
    "## Stationarity Notebook"
   ]
  },
  {
   "cell_type": "code",
   "execution_count": null,
   "metadata": {},
   "outputs": [],
   "source": [
    "from pathlib import Path\n",
    "from typing import List, Tuple\n",
    "import matplotlib.pyplot as plt\n",
    "import numpy as np\n",
    "import pandas as pd\n",
    "import seaborn as sns\n",
    "from statsmodels.graphics.tsaplots import plot_acf, plot_pacf\n",
    "from statsmodels.tsa.stattools import adfuller\n",
    "from scipy.stats import boxcox\n",
    "import warnings"
   ]
  },
  {
   "cell_type": "code",
   "execution_count": null,
   "metadata": {},
   "outputs": [],
   "source": [
    "warnings.filterwarnings(\"ignore\")"
   ]
  },
  {
   "cell_type": "markdown",
   "metadata": {},
   "source": [
    "## Initializing the data"
   ]
  },
  {
   "cell_type": "code",
   "execution_count": null,
   "metadata": {},
   "outputs": [],
   "source": [
    "DATA_DIR = (\n",
    "    Path(\"..\")\n",
    "    / \"..\"\n",
    "    / \"..\"\n",
    "    / \"hfactory_magic_folders\"\n",
    "    / \"plastic_cost_prediction\"\n",
    "    / \"data\"\n",
    ")\n",
    "MAIN_FILE = \"PA6_cleaned_dataset.csv\""
   ]
  },
  {
   "cell_type": "code",
   "execution_count": null,
   "metadata": {},
   "outputs": [],
   "source": [
    "df = pd.read_csv(DATA_DIR / MAIN_FILE)\n",
    "# convert time from string to datetime\n",
    "df[\"time\"] = pd.to_datetime(df[\"time\"])"
   ]
  },
  {
   "cell_type": "markdown",
   "metadata": {},
   "source": [
    "## Stationarity analysis"
   ]
  },
  {
   "cell_type": "markdown",
   "metadata": {},
   "source": [
    "In a first stage, we want to find which variables are already stationary and which ones need to be transformed in order to obtain stationarity. For this we will use the Augmented Dickey-Fuller test."
   ]
  },
  {
   "cell_type": "code",
   "execution_count": null,
   "metadata": {},
   "outputs": [],
   "source": [
    "def adf_test_all_columns(\n",
    "    df: pd.DataFrame, significance_level: float = 0.05\n",
    ") -> Tuple[pd.DataFrame, List[str]]:\n",
    "    \"\"\"Perform Augmented Dickey-Fuller (ADF) test on all columns in the DataFrame.\n",
    "\n",
    "    Parameters:\n",
    "    -----------\n",
    "    df: pd.DataFrame\n",
    "        Dataframe for which we perform ADF.\n",
    "    significance_level: float\n",
    "        significance level for the test (default is 0.05).\n",
    "\n",
    "    Returns\n",
    "    --------\n",
    "    df_results: pd.DataFrame\n",
    "        DataFrame containing column names and corresponding p-values.\n",
    "    stationary_columns: List[str]\n",
    "        List of column names that are stationary.\n",
    "    \"\"\"\n",
    "    # initializing a df to store the p-values per column and the list of stationary variables\n",
    "    df_results = pd.DataFrame(columns=[\"Column\", \"ADF p-value\"])\n",
    "    stationary_columns = []\n",
    "\n",
    "    # obaining the p-values for each column\n",
    "    for column in df.columns:\n",
    "        result_adf = adfuller(df[column].dropna())\n",
    "        p_value = round(result_adf[1], 3)\n",
    "        df_results = pd.concat(\n",
    "            [\n",
    "                df_results,\n",
    "                pd.DataFrame({\"Column\": [column], \"ADF p-value\": [p_value]}),\n",
    "            ],\n",
    "            ignore_index=True,\n",
    "        )\n",
    "\n",
    "        # checking if columns are stationary according to the significance level, saving them if so\n",
    "        if p_value <= significance_level:\n",
    "            stationary_columns.append(column)\n",
    "\n",
    "    print(\"Columns that are stationary based on the ADF test:\")\n",
    "    print(stationary_columns)\n",
    "\n",
    "    return df_results, stationary_columns\n",
    "\n",
    "\n",
    "results, stationary_cols = adf_test_all_columns(df)\n",
    "display(results)"
   ]
  },
  {
   "cell_type": "markdown",
   "metadata": {},
   "source": [
    "## Stationary Variable analysis"
   ]
  },
  {
   "cell_type": "markdown",
   "metadata": {},
   "source": [
    "For the variables that are already stationary, we want to check their time series, as well as their ACF and PACF plots, in order to better understand how these variables behave."
   ]
  },
  {
   "cell_type": "code",
   "execution_count": null,
   "metadata": {},
   "outputs": [],
   "source": [
    "def plot_acf_pacf_before_transformation(\n",
    "    series: pd.Series, title: str, col: str\n",
    "):\n",
    "    \"\"\"Plot ACF and PACF before applying transformation.\n",
    "\n",
    "    Parameters:\n",
    "    -----------\n",
    "    series: pd.Series\n",
    "        Original series.\n",
    "    title: str\n",
    "        Title for the plot.\n",
    "    col: str\n",
    "        Column name.\n",
    "    \"\"\"\n",
    "    plt.figure(figsize=(18, 8))\n",
    "\n",
    "    # Plot original series\n",
    "    plt.subplot(4, 1, 1)\n",
    "    plt.plot(series)\n",
    "    plt.title(f\"Original Series ({col})\")\n",
    "\n",
    "    # Plot ACF of transformed series\n",
    "    plt.subplot(4, 2, 3)\n",
    "    plot_acf(series, lags=20, ax=plt.gca())\n",
    "    plt.title(f\"ACF ({title})\")\n",
    "\n",
    "    # Plot PACF of transformed series\n",
    "    plt.subplot(4, 2, 4)\n",
    "    plot_pacf(series, lags=20, method=\"ywm\", ax=plt.gca())\n",
    "    plt.title(f\"PACF ({title})\")\n",
    "\n",
    "    plt.tight_layout()\n",
    "    plt.show()"
   ]
  },
  {
   "cell_type": "code",
   "execution_count": null,
   "metadata": {},
   "outputs": [],
   "source": [
    "## Stationary variable Analysis\n",
    "for col in stationary_cols:\n",
    "    plot_acf_pacf_before_transformation(df[col], \"No transformation\", col)"
   ]
  },
  {
   "cell_type": "markdown",
   "metadata": {},
   "source": [
    "# Non stationary variable analysis "
   ]
  },
  {
   "cell_type": "markdown",
   "metadata": {},
   "source": [
    "For the non stationary variables, we want to find a transformation that allows us to modify the variable into a stationary one. Since most of our variables can be both positive and negative, some of the typical transformations cannot be used like the log or square root transformation. Four different transformations will be tested, and if multiple work, we will select them in the following order(based on possibility of overfitting, ease of fitting to data engineering pipeline, etc...): \n",
    "\n",
    "1. First difference transformation\n",
    "2. Second difference transformation\n",
    "3. Cubic Root Transformation\n",
    "4. Boxcox transformation\n",
    "\n",
    "After finding the appropriate transformation, we will do an analysis on these variables similar to the one done for stationary variables above. We will plot the time series of the original variable as well as the one for the transformed variable, and also the ACT and PACT plots for the transformed variable. "
   ]
  },
  {
   "cell_type": "code",
   "execution_count": null,
   "metadata": {},
   "outputs": [],
   "source": [
    "def transform_and_test(\n",
    "    series: pd.Series, transformation: str, significance_level: float = 0.05\n",
    ") -> Tuple[pd.Series, float]:\n",
    "    \"\"\"Apply transformations to make the series stationary and perform ADF test.\n",
    "\n",
    "    Parameters\n",
    "    ----------\n",
    "    series: pd.Series\n",
    "        Series which will be transformed.\n",
    "    transformation: str\n",
    "        Tranformation that will be performed on the series.\n",
    "    significance_level: float\n",
    "        significance level for the ADF test (default is 0.05)\n",
    "\n",
    "    Returns:\n",
    "    transformed_series: pd.Series\n",
    "        Transformed series.\n",
    "    adf_p_value: float\n",
    "        ADF test p-value.\n",
    "    \"\"\"\n",
    "    possible_trans = [\n",
    "        \"First difference\",\n",
    "        \"Second difference\",\n",
    "        \"Cubic Root\",\n",
    "        \"Boxcox\",\n",
    "    ]\n",
    "    # checking if the transformation given as argument is allowed\n",
    "    if transformation not in possible_trans:\n",
    "        raise ValueError(\n",
    "            \"The transformation given was not expected. Expected one of: %s\"\n",
    "            % possible_trans\n",
    "        )\n",
    "    # doing the transformation\n",
    "    if transformation == \"First difference\":\n",
    "        transformed_series = series.diff().dropna()\n",
    "    elif transformation == \"Second difference\":\n",
    "        transformed_series = series.diff().diff().dropna()\n",
    "    elif transformation == \"Cubic Root\":\n",
    "        transformed_series = np.cbrt(series)\n",
    "    elif transformation == \"Boxcox\":\n",
    "        transformed_series, _ = boxcox(series)\n",
    "\n",
    "    # running the ADF test on the transformed variable\n",
    "    result_adf = adfuller(transformed_series)\n",
    "    adf_p_value = result_adf[1]\n",
    "\n",
    "    return transformed_series, adf_p_value"
   ]
  },
  {
   "cell_type": "code",
   "execution_count": null,
   "metadata": {},
   "outputs": [],
   "source": [
    "def plot_acf_pacf_after_transformation(series, transformed_series, title, col):\n",
    "    \"\"\"Plot ACF and PACF after applying transformation.\n",
    "\n",
    "    Parameters:\n",
    "    -----------\n",
    "    series: pd.Series\n",
    "        Original series.\n",
    "    transformed_series: pd.Series\n",
    "        Series after transformation.\n",
    "    title: str\n",
    "        Title for the plot.\n",
    "    col: str\n",
    "        Column name.\n",
    "    \"\"\"\n",
    "    plt.figure(figsize=(18, 8))\n",
    "\n",
    "    # Plot original series\n",
    "    plt.subplot(4, 2, 1)\n",
    "    plt.plot(series)\n",
    "    plt.title(f\"Original Series ({col})\")\n",
    "\n",
    "    # Plot transformed series\n",
    "    plt.subplot(4, 2, 2)\n",
    "    plt.plot(transformed_series)\n",
    "    plt.title(f\"Transformed Series ({col})\")\n",
    "\n",
    "    # Plot ACF of transformed series\n",
    "    plt.subplot(4, 2, 3)\n",
    "    plot_acf(transformed_series, lags=20, ax=plt.gca())\n",
    "    plt.title(f\"ACF ({title})\")\n",
    "\n",
    "    # Plot PACF of transformed series\n",
    "    plt.subplot(4, 2, 4)\n",
    "    plot_pacf(transformed_series, lags=20, method=\"ywm\", ax=plt.gca())\n",
    "    plt.title(f\"PACF ({title})\")\n",
    "\n",
    "    plt.tight_layout()\n",
    "    plt.show()"
   ]
  },
  {
   "cell_type": "markdown",
   "metadata": {},
   "source": [
    "## Non stationary variable results"
   ]
  },
  {
   "cell_type": "code",
   "execution_count": null,
   "metadata": {},
   "outputs": [],
   "source": [
    "# initializing a dictionary to save the results\n",
    "transformation_results = {}\n",
    "# list of all the transformations we want to test\n",
    "transformations_to_test = [\n",
    "    \"First difference\",\n",
    "    \"Second difference\",\n",
    "    \"Cubic Root\",\n",
    "    \"Boxcox\",\n",
    "]\n",
    "\n",
    "for column_name in df.columns:\n",
    "    # checking if the column is non stationary\n",
    "    if (column_name != \"time\") & (column_name not in stationary_cols):\n",
    "        original_series = df[column_name].dropna()\n",
    "\n",
    "        print(f\"Column: {column_name}\")\n",
    "\n",
    "        # Dictionary to store transformation results\n",
    "        transformation_results[column_name] = []\n",
    "        found = False\n",
    "        # trying the different transformations\n",
    "        for transformation in transformations_to_test:\n",
    "            # checking if one of the previous transformation already reached the goal of stationarity\n",
    "            if not found:\n",
    "                trans_series, adf_p_value = transform_and_test(\n",
    "                    original_series, transformation\n",
    "                )\n",
    "                # checking if the transformation worked. If so, make the plots described above and storing the result\n",
    "                if adf_p_value < 0.05:\n",
    "                    transformation_results[column_name] = (\n",
    "                        transformation,\n",
    "                        adf_p_value,\n",
    "                    )\n",
    "                    found = True\n",
    "                    plot_acf_pacf_after_transformation(\n",
    "                        original_series,\n",
    "                        trans_series,\n",
    "                        transformation + \" Transformation\",\n",
    "                        column_name,\n",
    "                    )\n",
    "# displaying the results\n",
    "print(\"Transformation Results:\")\n",
    "display(transformation_results)"
   ]
  }
 ],
 "metadata": {
  "kernelspec": {
   "display_name": ".venv",
   "language": "python",
   "name": "python3"
  },
  "language_info": {
   "codemirror_mode": {
    "name": "ipython",
    "version": 3
   },
   "file_extension": ".py",
   "mimetype": "text/x-python",
   "name": "python",
   "nbconvert_exporter": "python",
   "pygments_lexer": "ipython3",
   "version": "3.9.18"
  }
 },
 "nbformat": 4,
 "nbformat_minor": 2
}
