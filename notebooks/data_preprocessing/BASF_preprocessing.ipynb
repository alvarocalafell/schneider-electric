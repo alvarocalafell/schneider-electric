{
 "cells": [
  {
   "cell_type": "code",
   "execution_count": null,
   "metadata": {},
   "outputs": [],
   "source": [
    "from pathlib import Path\n",
    "from typing import Dict, List\n",
    "import pandas as pd\n",
    "import numpy as np\n",
    "import matplotlib.pyplot as plt\n",
    "import xlwings as xl"
   ]
  },
  {
   "cell_type": "code",
   "execution_count": null,
   "metadata": {},
   "outputs": [],
   "source": [
    "DATA_DIR = (\n",
    "    Path(\"..\")\n",
    "    / \"..\"\n",
    "    / \"..\"\n",
    "    / \"hfactory_magic_folders\"\n",
    "    / \"plastic_cost_prediction\"\n",
    "    / \"data\"\n",
    ")\n",
    "MAIN_FILE = \"BASF.xlsx\""
   ]
  },
  {
   "cell_type": "code",
   "execution_count": null,
   "metadata": {},
   "outputs": [],
   "source": [
    "DATA_PATH = DATA_DIR / MAIN_FILE"
   ]
  },
  {
   "cell_type": "code",
   "execution_count": null,
   "metadata": {},
   "outputs": [],
   "source": [
    "sheet_cols = {\n",
    "    \"Income Statement\": [\n",
    "        \"Time\",\n",
    "        \"Total Revenue\",\n",
    "        \"Total Gross Profit\",\n",
    "        \"Total Operating Profit/(Loss)\",\n",
    "    ],\n",
    "    \"Balance Sheet\": [\n",
    "        \"Time\",\n",
    "        \"Total Assets\",\n",
    "        \"Total Liabilities\",\n",
    "        \"Total Equity\",\n",
    "    ],\n",
    "    \"Cash Flow\": [\n",
    "        \"Time\",\n",
    "        \"Total Cash Flow from Operating Activities, Indirect\",\n",
    "        \"Total Cash Flow from Investing Activities\",\n",
    "        \"Total Cash Flow from Financing Activities\",\n",
    "    ],\n",
    "}"
   ]
  },
  {
   "cell_type": "code",
   "execution_count": null,
   "metadata": {},
   "outputs": [],
   "source": [
    "def BASF_preprocessing(\n",
    "    data_path: str, sheet_cols: Dict[str, List[str]]\n",
    ") -> Dict[str, pd.DataFrame]:\n",
    "    \"\"\"Given the path to the BASF file, preprocesses the data.\n",
    "\n",
    "    Parameters\n",
    "    ----------\n",
    "    data_path: str\n",
    "        Path to BASF file.\n",
    "    sheet_cols: Dict[str, List[str]]\n",
    "        Dict with the sheets to use and columns to keep.\n",
    "\n",
    "    Returns\n",
    "    -------\n",
    "    BASF_dfs: Dict[str, pd.DataFrame]\n",
    "        Dict containing the different processed dataframes(one per sheet).\n",
    "\n",
    "    \"\"\"\n",
    "    # opening excel file so that excel formulas are calculated\n",
    "    BASF_dfs = dict()\n",
    "    app = xl.App(visible=False)\n",
    "    book = app.books.open(data_path)\n",
    "    book.save()\n",
    "    app.kill()\n",
    "    # obtaining dataframe for each sheet we select(key), with the columns we select(values)\n",
    "    for key, values in sheet_cols.items():\n",
    "        df = pd.read_excel(data_path, sheet_name=key, usecols=\"C:AV\")\n",
    "        df = df.T.iloc[:, 1:]\n",
    "        df = df.rename(columns=df.iloc[0])\n",
    "        df = df[10:]\n",
    "        df = df.rename(columns={\"Company: BASF (ETR: BAS)\": \"Time\"})\n",
    "        df = df.rename(columns=lambda x: str(x).strip())\n",
    "        df = df[values]\n",
    "        df = df.reset_index().drop(\"index\", axis=1)\n",
    "        BASF_dfs[key] = df\n",
    "    return BASF_dfs"
   ]
  },
  {
   "cell_type": "code",
   "execution_count": null,
   "metadata": {},
   "outputs": [],
   "source": [
    "dfs = BASF_preprocessing(DATA_PATH, sheet_cols)"
   ]
  },
  {
   "cell_type": "code",
   "execution_count": null,
   "metadata": {},
   "outputs": [],
   "source": [
    "income_statement_df = dfs[\"Income Statement\"]\n",
    "balance_sheet_df = dfs[\"Balance Sheet\"]\n",
    "cash_flow_df = dfs[\"Cash Flow\"]"
   ]
  },
  {
   "cell_type": "code",
   "execution_count": null,
   "metadata": {},
   "outputs": [],
   "source": []
  }
 ],
 "metadata": {
  "kernelspec": {
   "display_name": "schneider",
   "language": "python",
   "name": "python3"
  },
  "language_info": {
   "codemirror_mode": {
    "name": "ipython",
    "version": 3
   },
   "file_extension": ".py",
   "mimetype": "text/x-python",
   "name": "python",
   "nbconvert_exporter": "python",
   "pygments_lexer": "ipython3",
   "version": "3.9.18"
  }
 },
 "nbformat": 4,
 "nbformat_minor": 2
}
