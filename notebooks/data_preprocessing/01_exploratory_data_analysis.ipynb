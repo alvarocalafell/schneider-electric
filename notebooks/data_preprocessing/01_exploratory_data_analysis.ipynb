{
 "cells": [
  {
   "attachments": {},
   "cell_type": "markdown",
   "metadata": {},
   "source": [
    "# Exploratory Data Analysis"
   ]
  },
  {
   "cell_type": "code",
   "execution_count": null,
   "metadata": {},
   "outputs": [],
   "source": [
    "from pathlib import Path\n",
    "from typing import List\n",
    "\n",
    "import altair as alt\n",
    "import matplotlib.pyplot as plt\n",
    "import numpy as np\n",
    "import pandas as pd\n",
    "from pandas.plotting import autocorrelation_plot\n",
    "from pmdarima.arima import CHTest\n",
    "import seaborn as sns\n",
    "from statsmodels.tsa.seasonal import seasonal_decompose"
   ]
  },
  {
   "cell_type": "code",
   "execution_count": null,
   "metadata": {},
   "outputs": [],
   "source": [
    "DATA_DIR = (\n",
    "    Path(\"..\")\n",
    "    / \"..\"\n",
    "    / \"..\"\n",
    "    / \"hfactory_magic_folders\"\n",
    "    / \"plastic_cost_prediction\"\n",
    "    / \"data\"\n",
    ")\n",
    "MAIN_FILE = \"PA6_cleaned_dataset.csv\""
   ]
  },
  {
   "cell_type": "code",
   "execution_count": null,
   "metadata": {},
   "outputs": [],
   "source": [
    "df = pd.read_csv(DATA_DIR / MAIN_FILE)"
   ]
  },
  {
   "cell_type": "code",
   "execution_count": null,
   "metadata": {},
   "outputs": [],
   "source": [
    "df.columns"
   ]
  },
  {
   "cell_type": "code",
   "execution_count": null,
   "metadata": {},
   "outputs": [],
   "source": [
    "df.dtypes"
   ]
  },
  {
   "cell_type": "code",
   "execution_count": null,
   "metadata": {},
   "outputs": [],
   "source": [
    "# convert time from string to datetime\n",
    "df[\"time\"] = pd.to_datetime(df[\"time\"])"
   ]
  },
  {
   "attachments": {},
   "cell_type": "markdown",
   "metadata": {},
   "source": [
    "## Time series plots of features\n",
    "\n",
    "First, we have a look at the single columns that don't belong to the same topic."
   ]
  },
  {
   "cell_type": "code",
   "execution_count": null,
   "metadata": {},
   "outputs": [],
   "source": [
    "def plot_time_series(df: pd.DataFrame, col: str) -> None:\n",
    "    \"\"\"\n",
    "    Plots a time series from a DataFrame.\n",
    "\n",
    "    Parameters\n",
    "    ----------\n",
    "    df : pd.DataFrame\n",
    "            Data as a dataframe.\n",
    "    col : str\n",
    "        The name of the column to be plotted from the DataFrame.\n",
    "\n",
    "    Returns\n",
    "    -------\n",
    "    None\n",
    "    \"\"\"\n",
    "    # Create the plot\n",
    "    plt.plot(df[\"time\"], df[col])\n",
    "\n",
    "    # Add title and axis labels\n",
    "    plt.title(f\"Time Series Plot - {col}\")\n",
    "    plt.xlabel(\"time\")\n",
    "    plt.ylabel(col)\n",
    "    plt.xticks(rotation=45)\n",
    "\n",
    "    # Display the plot\n",
    "    plt.show()"
   ]
  },
  {
   "cell_type": "code",
   "execution_count": null,
   "metadata": {},
   "outputs": [],
   "source": [
    "single_cols = [\n",
    "    \"PA6 GLOBAL_ EMEAS _ EUR per TON\",\n",
    "    \"best_price_compound\",\n",
    "    \"Inflation_rate_france\",\n",
    "    \"Automotive Value\",\n",
    "]"
   ]
  },
  {
   "cell_type": "code",
   "execution_count": null,
   "metadata": {},
   "outputs": [],
   "source": [
    "for col in single_cols:\n",
    "    plot_time_series(df, col)"
   ]
  },
  {
   "attachments": {},
   "cell_type": "markdown",
   "metadata": {},
   "source": [
    "Next, the columns that belong to the same group are displayed in the same plot."
   ]
  },
  {
   "cell_type": "code",
   "execution_count": null,
   "metadata": {},
   "outputs": [],
   "source": [
    "gas_cols = [col for col in df.columns.to_list() if \"GAS\" in col]\n",
    "\n",
    "plt.figure()\n",
    "\n",
    "for column in gas_cols:\n",
    "    plt.plot(df[\"time\"], df[column], label=column)\n",
    "\n",
    "plt.title(f\"Time Series Plot - Natural Gas Prices\")\n",
    "plt.xlabel(\"time\")\n",
    "plt.ylabel(\"natural gas prices\")\n",
    "plt.legend();"
   ]
  },
  {
   "cell_type": "code",
   "execution_count": null,
   "metadata": {},
   "outputs": [],
   "source": [
    "crude_cols = [col for col in df.columns.to_list() if \"CRUDE\" in col]\n",
    "\n",
    "plt.figure()\n",
    "\n",
    "for column in crude_cols:\n",
    "    plt.plot(df[\"time\"], df[column], label=column)\n",
    "\n",
    "plt.title(f\"Time Series Plot - Crude Oil Prices\")\n",
    "plt.xlabel(\"time\")\n",
    "plt.ylabel(\"crude oil prices\")\n",
    "plt.legend();"
   ]
  },
  {
   "cell_type": "code",
   "execution_count": null,
   "metadata": {},
   "outputs": [],
   "source": [
    "electricity_cols = [col for col in df.columns.to_list() if \"Electricty\" in col]\n",
    "\n",
    "plt.figure()\n",
    "\n",
    "for column in electricity_cols:\n",
    "    plt.plot(df[\"time\"], df[column], label=column)\n",
    "\n",
    "plt.title(f\"Time Series Plot - Electricty Prices\")\n",
    "plt.xlabel(\"time\")\n",
    "plt.ylabel(\"electricity prices\")\n",
    "plt.legend();"
   ]
  },
  {
   "cell_type": "code",
   "execution_count": null,
   "metadata": {},
   "outputs": [],
   "source": [
    "hydrocarbons_cols = [\"Benzene_price\", \"Caprolactam_price\", \"Cyclohexane_price\"]\n",
    "\n",
    "plt.figure()\n",
    "\n",
    "for column in hydrocarbons_cols:\n",
    "    plt.plot(df[\"time\"], df[column], label=column)\n",
    "\n",
    "plt.title(f\"Time Series Plot - Hydrocarbons Prices\")\n",
    "plt.xlabel(\"time\")\n",
    "plt.ylabel(\"hydrocarbons prices\")\n",
    "plt.legend();"
   ]
  },
  {
   "attachments": {},
   "cell_type": "markdown",
   "metadata": {},
   "source": [
    "## Correlation analysis"
   ]
  },
  {
   "cell_type": "code",
   "execution_count": null,
   "metadata": {},
   "outputs": [],
   "source": [
    "corr = df.corr()\n",
    "corr.style.background_gradient(cmap=\"coolwarm\")"
   ]
  },
  {
   "attachments": {},
   "cell_type": "markdown",
   "metadata": {},
   "source": [
    "## Sesonality and outliers"
   ]
  },
  {
   "attachments": {},
   "cell_type": "markdown",
   "metadata": {},
   "source": [
    "### Outliers Analysis"
   ]
  },
  {
   "attachments": {},
   "cell_type": "markdown",
   "metadata": {},
   "source": [
    "Following the Covid-19 pandemic and its related restrictions, in beginning of 2020, there was a drop in demand for energy in general. As a result the natural gas, electricity and oil prices experienced lower prices.\n",
    "\n",
    "The recovery of economic activities was translated into increased energy demand, and natural gas prices regained their pre-pandemic levels by Q3/Q4 2020. The upward trend continued in 2021.\n",
    "\n",
    "In 2022, Russia’s war on Ukraine and decision to suspend deliveries of gas to some EU member states have pushed up the price of gas, which has also caused record high prices for electricity in the EU.\n",
    "\n",
    "Heatwaves during summer 2022 have put additional pressure on energy markets, on the one hand causing increased demand of energy for cooling, and on the other decreased energy supply due to drought and the consequent reduction in the supply of hydropower. "
   ]
  },
  {
   "cell_type": "code",
   "execution_count": null,
   "metadata": {},
   "outputs": [],
   "source": [
    "def create_box_plot(\n",
    "    data: pd.DataFrame,\n",
    "    x_column: str,\n",
    "    y_column: str,\n",
    "    color_column: str,\n",
    "    y_scale_domain: List[int] = None,\n",
    ") -> alt.Chart:\n",
    "    \"\"\"Creates a box plot using Altair visualization library.\n",
    "\n",
    "    Parameters\n",
    "    ----------\n",
    "    data : pd.DataFrame\n",
    "        The input DataFrame containing the data to be visualized.\n",
    "    x_column : str\n",
    "        The column name for the x-axis.\n",
    "    y_column : str\n",
    "        The column name for the y-axis (numeric).\n",
    "    color_column : str\n",
    "        The column name used for coloring the boxes.\n",
    "    y_scale_domain : List[int], optional\n",
    "        The domain for the y-axis scale, if provided.\n",
    "\n",
    "    Returns\n",
    "    -------\n",
    "    chart : alt.Chart\n",
    "        Altair Chart object representing the box plot.\n",
    "    \"\"\"\n",
    "    if y_scale_domain is not None:\n",
    "        chart = (\n",
    "            alt.Chart(data)\n",
    "            .mark_boxplot(\n",
    "                opacity=0.3,\n",
    "                size=50,\n",
    "            )\n",
    "            .encode(\n",
    "                x=alt.X(f\"year({x_column}):O\", title=\"Year\"),\n",
    "                y=alt.Y(\n",
    "                    f\"{y_column}:Q\",\n",
    "                    title=\"Price\",\n",
    "                    scale=alt.Scale(domain=y_scale_domain),\n",
    "                ),\n",
    "                color=f\"{color_column}:N\",\n",
    "            )\n",
    "        )\n",
    "    else:\n",
    "        chart = (\n",
    "            alt.Chart(data)\n",
    "            .mark_boxplot(\n",
    "                opacity=0.3,\n",
    "                size=50,\n",
    "            )\n",
    "            .encode(\n",
    "                x=alt.X(f\"year({x_column}):O\", title=\"Year\"),\n",
    "                y=alt.Y(f\"{y_column}:Q\", title=\"Price\"),\n",
    "                color=f\"{color_column}:N\",\n",
    "            )\n",
    "        )\n",
    "    return chart\n",
    "\n",
    "\n",
    "def create_swarm_plot(\n",
    "    data: pd.DataFrame,\n",
    "    x_column: str,\n",
    "    y_column: str,\n",
    "    color_column: str,\n",
    "    y_scale_domain: List[int] = None,\n",
    ") -> alt.Chart:\n",
    "    \"\"\"Creates a swarm plot using Altair visualization library.\n",
    "\n",
    "    Parameters\n",
    "    ----------\n",
    "    data : pd.DataFrame\n",
    "        The input DataFrame containing the data to be visualized.\n",
    "    x_column : str\n",
    "        The column name for the x-axis.\n",
    "    y_column : str\n",
    "        The column name for the y-axis (numeric).\n",
    "    color_column : str\n",
    "        The column name used for coloring the points.\n",
    "    y_scale_domain : List[int], optional\n",
    "        The domain for the y-axis scale, if provided.\n",
    "\n",
    "    Returns\n",
    "    -------\n",
    "    chart : alt.Chart\n",
    "        Altair Chart object representing the swarm plot.\n",
    "    \"\"\"\n",
    "    if y_scale_domain is not None:\n",
    "        chart = (\n",
    "            alt.Chart(data)\n",
    "            .mark_circle(size=30, opacity=0.7, color=\"black\")\n",
    "            .encode(\n",
    "                x=alt.X(f\"year({x_column}):O\", title=\"Year\"),\n",
    "                y=alt.Y(\n",
    "                    f\"{y_column}:Q\", scale=alt.Scale(domain=y_scale_domain)\n",
    "                ),\n",
    "                color=f\"{color_column}:N\",\n",
    "            )\n",
    "        )\n",
    "    else:\n",
    "        chart = (\n",
    "            alt.Chart(data)\n",
    "            .mark_circle(size=30, opacity=0.7, color=\"black\")\n",
    "            .encode(\n",
    "                x=alt.X(f\"year({x_column}):O\", title=\"Year\"),\n",
    "                y=alt.Y(f\"{y_column}:Q\"),\n",
    "                color=f\"{color_column}:N\",\n",
    "            )\n",
    "        )\n",
    "    return chart\n",
    "\n",
    "\n",
    "def create_outliers_distribution_chart(\n",
    "    dataframe: pd.DataFrame,\n",
    "    date_column: str,\n",
    "    features_list: [List[int]],\n",
    "    title: str,\n",
    "    y_scale_domain: List[int] = None,\n",
    ") -> alt.Chart:\n",
    "    \"\"\"Creates a combined chart with box plots and swarm plots for multiple features.\n",
    "\n",
    "    Parameters\n",
    "    ----------\n",
    "    dataframe : pd.DataFrame\n",
    "        The input DataFrame containing the data to be visualized.\n",
    "    date_column : str\n",
    "        The column name representing the date or time.\n",
    "    features_list : List[str]\n",
    "        List of column names for the features to be visualized.\n",
    "    title : str\n",
    "        The title for the combined chart.\n",
    "    y_scale_domain : List[int], optional\n",
    "        The domain for the y-axis scale, if provided.\n",
    "\n",
    "    Returns\n",
    "    -------\n",
    "    final_chart : alt.Chart\n",
    "        Altair Chart object representing the combined box plots and swarm plots.\n",
    "    \"\"\"\n",
    "    melted_df = pd.melt(\n",
    "        dataframe.reset_index(),\n",
    "        id_vars=[date_column],\n",
    "        value_vars=features_list,\n",
    "    )\n",
    "\n",
    "    box_plot = create_box_plot(\n",
    "        melted_df, date_column, \"value\", \"variable\", y_scale_domain\n",
    "    )\n",
    "    swarm_plot = create_swarm_plot(\n",
    "        melted_df, date_column, \"value\", \"variable\", y_scale_domain\n",
    "    )\n",
    "\n",
    "    # Combine box plot and swarm plot\n",
    "    chart = (box_plot + swarm_plot).properties(\n",
    "        width=600, height=400, title=title\n",
    "    )\n",
    "\n",
    "    # Facet by the specified column\n",
    "    final_chart = chart.facet(\n",
    "        column=alt.Column(f\"variable:N\"),\n",
    "    )\n",
    "\n",
    "    return final_chart"
   ]
  },
  {
   "cell_type": "code",
   "execution_count": null,
   "metadata": {},
   "outputs": [],
   "source": [
    "chart = create_outliers_distribution_chart(\n",
    "    df,\n",
    "    \"time\",\n",
    "    [\"PA6 GLOBAL_ EMEAS _ EUR per TON\", \"best_price_compound\"],\n",
    "    \"Price Distribution Over Years\",\n",
    "    [1000, 4000],\n",
    ")\n",
    "chart"
   ]
  },
  {
   "cell_type": "code",
   "execution_count": null,
   "metadata": {},
   "outputs": [],
   "source": [
    "chart = create_outliers_distribution_chart(\n",
    "    df,\n",
    "    \"time\",\n",
    "    crude_cols,\n",
    "    \"Crude Prices Distribution Over Years\",\n",
    ")\n",
    "chart"
   ]
  },
  {
   "cell_type": "code",
   "execution_count": null,
   "metadata": {},
   "outputs": [],
   "source": [
    "chart = create_outliers_distribution_chart(\n",
    "    df,\n",
    "    \"time\",\n",
    "    gas_cols,\n",
    "    \"Natural Gas Prices Distribution Over Years\",\n",
    ")\n",
    "chart"
   ]
  },
  {
   "attachments": {},
   "cell_type": "markdown",
   "metadata": {},
   "source": [
    "Following the Covid-19 pandemic and its related restrictions, in beginning of 2020, there was a drop in demand for natural gas and energy in general. As a result the natural gas prices experienced record-low prices.\n",
    "\n",
    "The recovery of economic activities was translated into increased energy demand, and natural gas prices regained their pre-pandemic levels by Q3/Q4 2020. The upward trend continued in 2021. \n",
    "\n",
    "Price on Natural Gas in Europe were affected by war much more than Natural Gas prices in Japan and United States"
   ]
  },
  {
   "cell_type": "code",
   "execution_count": null,
   "metadata": {},
   "outputs": [],
   "source": [
    "chart = create_outliers_distribution_chart(\n",
    "    df,\n",
    "    \"time\",\n",
    "    electricity_cols,\n",
    "    \"Electricity Prices Distribution Over Years\",\n",
    ")\n",
    "chart"
   ]
  },
  {
   "attachments": {},
   "cell_type": "markdown",
   "metadata": {},
   "source": [
    "Poland's success in containing prices was due, among other things, to Poland's electricity mix, which is still based on coal sourced from domestic mines. Therefore, Poland was less affected by the severe increases in global commodity prices observed in 2022.\n",
    "\n",
    "Source: https://pkee.pl/en/aktualnosci/wojna-o-ceny-energii-podsumowanie-dzialan-oslonowych-na-rynkach-w-polscei-europie/#:~:text=As%20he%20points%20out%2C%20Poland's,commodity%20prices%20observed%20in%202022."
   ]
  },
  {
   "cell_type": "code",
   "execution_count": null,
   "metadata": {},
   "outputs": [],
   "source": [
    "chart = create_outliers_distribution_chart(\n",
    "    df,\n",
    "    \"time\",\n",
    "    [\"Inflation_rate_france\"],\n",
    "    \"France Inflation Rate Distribution Over Years\",\n",
    ")\n",
    "chart"
   ]
  },
  {
   "cell_type": "code",
   "execution_count": null,
   "metadata": {},
   "outputs": [],
   "source": [
    "chart = create_outliers_distribution_chart(\n",
    "    df, \"time\", [\"Automotive Value\"], \"Compounds Price Distribution Over Years\"\n",
    ")\n",
    "chart"
   ]
  },
  {
   "cell_type": "code",
   "execution_count": null,
   "metadata": {},
   "outputs": [],
   "source": [
    "chart = create_outliers_distribution_chart(\n",
    "    df,\n",
    "    \"time\",\n",
    "    hydrocarbons_cols,\n",
    "    \"Compounds Price Distribution Over Years\",\n",
    ")\n",
    "chart"
   ]
  },
  {
   "attachments": {},
   "cell_type": "markdown",
   "metadata": {},
   "source": [
    "### Seasonality Analysis"
   ]
  },
  {
   "attachments": {},
   "cell_type": "markdown",
   "metadata": {},
   "source": [
    "First, we'll have a look at the target column."
   ]
  },
  {
   "cell_type": "code",
   "execution_count": null,
   "metadata": {},
   "outputs": [],
   "source": [
    "# Multiplicative Decomposition\n",
    "multiplicative_decomposition = seasonal_decompose(\n",
    "    df[\"best_price_compound\"].dropna(), model=\"multiplicative\", period=30\n",
    ")\n",
    "\n",
    "# Additive Decomposition\n",
    "additive_decomposition = seasonal_decompose(\n",
    "    df[\"best_price_compound\"].dropna(), model=\"additive\", period=30\n",
    ")\n",
    "\n",
    "# Plot\n",
    "plt.rcParams.update({\"figure.figsize\": (7, 5)})\n",
    "multiplicative_decomposition.plot().suptitle(\n",
    "    \"Multiplicative Decomposition\", fontsize=16\n",
    ")\n",
    "plt.tight_layout(rect=[0, 0.03, 1, 0.95])\n",
    "\n",
    "additive_decomposition.plot().suptitle(\"Additive Decomposition\", fontsize=16)\n",
    "plt.tight_layout(rect=[0, 0.03, 1, 0.95])\n",
    "\n",
    "plt.show()"
   ]
  },
  {
   "cell_type": "code",
   "execution_count": null,
   "metadata": {},
   "outputs": [],
   "source": [
    "# Test for seasonality\n",
    "\n",
    "plt.rcParams.update({\"figure.figsize\": (8, 3), \"figure.dpi\": 120})\n",
    "autocorrelation_plot(df[\"best_price_compound\"].dropna().tolist())"
   ]
  },
  {
   "cell_type": "code",
   "execution_count": null,
   "metadata": {},
   "outputs": [],
   "source": [
    "# CH test for seasonality\n",
    "\n",
    "time_series = pd.Series(\n",
    "    df[\"best_price_compound\"].values, index=df[\"time\"]\n",
    ").dropna()\n",
    "CHTest(m=2).estimate_seasonal_differencing_term(time_series)"
   ]
  },
  {
   "attachments": {},
   "cell_type": "markdown",
   "metadata": {},
   "source": [
    "Second, let's have a look at the decomposition of seasonal columns."
   ]
  },
  {
   "cell_type": "code",
   "execution_count": null,
   "metadata": {},
   "outputs": [],
   "source": [
    "for col in df.columns:\n",
    "    if col in [\"time\", \"best_price_compound\"]:\n",
    "        continue\n",
    "\n",
    "    # Multiplicative Decomposition\n",
    "    multiplicative_decomposition = seasonal_decompose(\n",
    "        df[col], model=\"multiplicative\", period=30\n",
    "    )\n",
    "\n",
    "    # Plot\n",
    "    plt.rcParams.update({\"figure.figsize\": (7, 5)})\n",
    "    multiplicative_decomposition.plot()\n",
    "    plt.tight_layout(rect=[0, 0.03, 1, 0.95])\n",
    "\n",
    "    plt.show()"
   ]
  },
  {
   "cell_type": "code",
   "execution_count": null,
   "metadata": {},
   "outputs": [],
   "source": []
  }
 ],
 "metadata": {
  "kernelspec": {
   "display_name": ".venv",
   "language": "python",
   "name": "python3"
  },
  "language_info": {
   "codemirror_mode": {
    "name": "ipython",
    "version": 3
   },
   "file_extension": ".py",
   "mimetype": "text/x-python",
   "name": "python",
   "nbconvert_exporter": "python",
   "pygments_lexer": "ipython3",
   "version": "3.10.12"
  }
 },
 "nbformat": 4,
 "nbformat_minor": 2
}
