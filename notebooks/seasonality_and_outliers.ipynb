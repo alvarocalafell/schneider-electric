{
 "cells": [
  {
   "cell_type": "code",
   "execution_count": null,
   "metadata": {},
   "outputs": [],
   "source": [
    "import altair as alt\n",
    "import pandas as pd\n",
    "from pmdarima.arima import CHTest\n",
    "from pandas.plotting import autocorrelation_plot\n",
    "import numpy as np\n",
    "import matplotlib as mpl\n",
    "import matplotlib.pyplot as plt\n",
    "import seaborn as sns\n",
    "from statsmodels.tsa.seasonal import seasonal_decompose"
   ]
  },
  {
   "cell_type": "code",
   "execution_count": null,
   "metadata": {},
   "outputs": [],
   "source": [
    "df = pd.read_csv(\n",
    "    \"../../hfactory_magic_folders/plastic_cost_prediction/data/PA6_cleaned_dataset.csv\"\n",
    ")\n",
    "df.rename(\n",
    "    columns={\"time\": \"Date\", \"PA6 GLOBAL_ EMEAS _ EUR per TON\": \"PA6_Price\"},\n",
    "    inplace=True,\n",
    ")"
   ]
  },
  {
   "attachments": {},
   "cell_type": "markdown",
   "metadata": {},
   "source": [
    "### Outliers Analysis"
   ]
  },
  {
   "attachments": {},
   "cell_type": "markdown",
   "metadata": {},
   "source": [
    "Following the Covid-19 pandemic and its related restrictions, in beginning of 2020, there was a drop in demand for energy in general. As a result the natural gas, electricity and oil prices experienced lower prices.\n",
    "\n",
    "The recovery of economic activities was translated into increased energy demand, and natural gas prices regained their pre-pandemic levels by Q3/Q4 2020. The upward trend continued in 2021.\n",
    "\n",
    "In 2022, Russia’s war on Ukraine and decision to suspend deliveries of gas to some EU member states have pushed up the price of gas, which has also caused record high prices for electricity in the EU.\n",
    "\n",
    "Heatwaves during summer 2022 have put additional pressure on energy markets, on the one hand causing increased demand of energy for cooling, and on the other decreased energy supply due to drought and the consequent reduction in the supply of hydropower. "
   ]
  },
  {
   "cell_type": "code",
   "execution_count": null,
   "metadata": {},
   "outputs": [],
   "source": [
    "def create_box_plot(\n",
    "    data, x_column, y_column, color_column, y_scale_domain=None\n",
    "):\n",
    "    if y_scale_domain is not None:\n",
    "        chart = (\n",
    "            alt.Chart(data)\n",
    "            .mark_boxplot(\n",
    "                opacity=0.3,\n",
    "                size=50,\n",
    "            )\n",
    "            .encode(\n",
    "                x=alt.X(f\"year({x_column}):O\", title=\"Year\"),\n",
    "                y=alt.Y(\n",
    "                    f\"{y_column}:Q\",\n",
    "                    title=\"Price\",\n",
    "                    scale=alt.Scale(domain=y_scale_domain),\n",
    "                ),\n",
    "                color=f\"{color_column}:N\",\n",
    "            )\n",
    "        )\n",
    "    else:\n",
    "        chart = (\n",
    "            alt.Chart(data)\n",
    "            .mark_boxplot(\n",
    "                opacity=0.3,\n",
    "                size=50,\n",
    "            )\n",
    "            .encode(\n",
    "                x=alt.X(f\"year({x_column}):O\", title=\"Year\"),\n",
    "                y=alt.Y(f\"{y_column}:Q\", title=\"Price\"),\n",
    "                color=f\"{color_column}:N\",\n",
    "            )\n",
    "        )\n",
    "    return chart\n",
    "\n",
    "\n",
    "def create_swarm_plot(\n",
    "    data, x_column, y_column, color_column, y_scale_domain=None\n",
    "):\n",
    "    if y_scale_domain is not None:\n",
    "        chart = (\n",
    "            alt.Chart(data)\n",
    "            .mark_circle(size=30, opacity=0.7, color=\"black\")\n",
    "            .encode(\n",
    "                x=alt.X(f\"year({x_column}):O\", title=\"Year\"),\n",
    "                y=alt.Y(\n",
    "                    f\"{y_column}:Q\", scale=alt.Scale(domain=y_scale_domain)\n",
    "                ),\n",
    "                color=f\"{color_column}:N\",\n",
    "            )\n",
    "        )\n",
    "    else:\n",
    "        chart = (\n",
    "            alt.Chart(data)\n",
    "            .mark_circle(size=30, opacity=0.7, color=\"black\")\n",
    "            .encode(\n",
    "                x=alt.X(f\"year({x_column}):O\", title=\"Year\"),\n",
    "                y=alt.Y(f\"{y_column}:Q\"),\n",
    "                color=f\"{color_column}:N\",\n",
    "            )\n",
    "        )\n",
    "    return chart\n",
    "\n",
    "\n",
    "def create_outliers_distribution_chart(\n",
    "    dataframe, date_column, features_list, title, y_scale_domain=None\n",
    "):\n",
    "    melted_df = pd.melt(\n",
    "        dataframe.reset_index(),\n",
    "        id_vars=[date_column],\n",
    "        value_vars=features_list,\n",
    "    )\n",
    "\n",
    "    box_plot = create_box_plot(\n",
    "        melted_df, date_column, \"value\", \"variable\", y_scale_domain\n",
    "    )\n",
    "    swarm_plot = create_swarm_plot(\n",
    "        melted_df, date_column, \"value\", \"variable\", y_scale_domain\n",
    "    )\n",
    "\n",
    "    # Combine box plot and swarm plot\n",
    "    chart = (box_plot + swarm_plot).properties(\n",
    "        width=600, height=400, title=title\n",
    "    )\n",
    "\n",
    "    # Facet by the specified column\n",
    "    final_chart = chart.facet(\n",
    "        column=alt.Column(f\"variable:N\"),\n",
    "    )\n",
    "\n",
    "    return final_chart"
   ]
  },
  {
   "cell_type": "code",
   "execution_count": null,
   "metadata": {},
   "outputs": [],
   "source": [
    "chart = create_outliers_distribution_chart(\n",
    "    df,\n",
    "    \"Date\",\n",
    "    [\"PA6_Price\", \"best_price_compound\"],\n",
    "    \"Price Distribution Over Years\",\n",
    "    [1000, 4000],\n",
    ")\n",
    "chart"
   ]
  },
  {
   "cell_type": "code",
   "execution_count": null,
   "metadata": {},
   "outputs": [],
   "source": [
    "chart = create_outliers_distribution_chart(\n",
    "    df,\n",
    "    \"Date\",\n",
    "    [\"CRUDE_PETRO\", \"CRUDE_BRENT\", \"CRUDE_DUBAI\", \"CRUDE_WTI\"],\n",
    "    \"Crude Prices Distribution Over Years\",\n",
    ")\n",
    "chart"
   ]
  },
  {
   "cell_type": "code",
   "execution_count": null,
   "metadata": {},
   "outputs": [],
   "source": [
    "chart = create_outliers_distribution_chart(\n",
    "    df,\n",
    "    \"Date\",\n",
    "    [\"NGAS_US\", \"NGAS_EUR\", \"NGAS_JP\"],\n",
    "    \"Natural Gas Prices Distribution Over Years\",\n",
    ")\n",
    "chart"
   ]
  },
  {
   "attachments": {},
   "cell_type": "markdown",
   "metadata": {},
   "source": [
    "Following the Covid-19 pandemic and its related restrictions, in beginning of 2020, there was a drop in demand for natural gas and energy in general. As a result the natural gas prices experienced record-low prices.\n",
    "\n",
    "The recovery of economic activities was translated into increased energy demand, and natural gas prices regained their pre-pandemic levels by Q3/Q4 2020. The upward trend continued in 2021. \n",
    "\n",
    "Price on Natural Gas in Europe were affected by war much more than Natural Gas prices in Japan and United States"
   ]
  },
  {
   "cell_type": "code",
   "execution_count": null,
   "metadata": {},
   "outputs": [],
   "source": [
    "chart = create_outliers_distribution_chart(\n",
    "    df,\n",
    "    \"Date\",\n",
    "    [\n",
    "        \"Electricty_Price_France\",\n",
    "        \"Electricty_Price_Italy\",\n",
    "        \"Electricty_Price_Poland\",\n",
    "        \"Electricty_Price_Netherlands\",\n",
    "        \"Electricty_Price_Germany\",\n",
    "    ],\n",
    "    \"Electricity Prices Distribution Over Years\",\n",
    ")\n",
    "chart"
   ]
  },
  {
   "attachments": {},
   "cell_type": "markdown",
   "metadata": {},
   "source": [
    "Poland's success in containing prices was due, among other things, to Poland's electricity mix, which is still based on coal sourced from domestic mines. Therefore, Poland was less affected by the severe increases in global commodity prices observed in 2022.\n",
    "\n",
    "Source: https://pkee.pl/en/aktualnosci/wojna-o-ceny-energii-podsumowanie-dzialan-oslonowych-na-rynkach-w-polscei-europie/#:~:text=As%20he%20points%20out%2C%20Poland's,commodity%20prices%20observed%20in%202022."
   ]
  },
  {
   "cell_type": "code",
   "execution_count": null,
   "metadata": {},
   "outputs": [],
   "source": [
    "chart = create_outliers_distribution_chart(\n",
    "    df,\n",
    "    \"Date\",\n",
    "    [\"Inflation_rate_france\"],\n",
    "    \"France Inflation Rate Distribution Over Years\",\n",
    ")\n",
    "chart"
   ]
  },
  {
   "cell_type": "code",
   "execution_count": null,
   "metadata": {},
   "outputs": [],
   "source": [
    "chart = create_outliers_distribution_chart(\n",
    "    df, \"Date\", [\"Automotive Value\"], \"Compounds Price Distribution Over Years\"\n",
    ")\n",
    "chart"
   ]
  },
  {
   "cell_type": "code",
   "execution_count": null,
   "metadata": {},
   "outputs": [],
   "source": [
    "chart = create_outliers_distribution_chart(\n",
    "    df,\n",
    "    \"Date\",\n",
    "    [\"Benzene_price\", \"Caprolactam_price\", \"Cyclohexane_price\"],\n",
    "    \"Compounds Price Distribution Over Years\",\n",
    ")\n",
    "chart"
   ]
  },
  {
   "attachments": {},
   "cell_type": "markdown",
   "metadata": {},
   "source": [
    "### Seasonality Analysis"
   ]
  },
  {
   "cell_type": "code",
   "execution_count": null,
   "metadata": {},
   "outputs": [],
   "source": [
    "df_cleaned = df.dropna(subset=[\"best_price_compound\"])\n",
    "\n",
    "# Multiplicative Decomposition\n",
    "multiplicative_decomposition = seasonal_decompose(\n",
    "    df_cleaned[\"best_price_compound\"], model=\"multiplicative\", period=30\n",
    ")\n",
    "\n",
    "# Additive Decomposition\n",
    "additive_decomposition = seasonal_decompose(\n",
    "    df_cleaned[\"best_price_compound\"], model=\"additive\", period=30\n",
    ")\n",
    "\n",
    "# Plot\n",
    "plt.rcParams.update({\"figure.figsize\": (7, 5)})\n",
    "multiplicative_decomposition.plot().suptitle(\n",
    "    \"Multiplicative Decomposition\", fontsize=16\n",
    ")\n",
    "plt.tight_layout(rect=[0, 0.03, 1, 0.95])\n",
    "\n",
    "additive_decomposition.plot().suptitle(\"Additive Decomposition\", fontsize=16)\n",
    "plt.tight_layout(rect=[0, 0.03, 1, 0.95])\n",
    "\n",
    "plt.show()"
   ]
  },
  {
   "cell_type": "code",
   "execution_count": null,
   "metadata": {},
   "outputs": [],
   "source": [
    "# Test for seasonality\n",
    "\n",
    "plt.rcParams.update({\"figure.figsize\": (8, 3), \"figure.dpi\": 120})\n",
    "autocorrelation_plot(df_cleaned[\"best_price_compound\"].tolist())"
   ]
  },
  {
   "cell_type": "code",
   "execution_count": null,
   "metadata": {},
   "outputs": [],
   "source": [
    "# CH test for seasonality\n",
    "\n",
    "time_series = pd.Series(\n",
    "    df_cleaned[\"best_price_compound\"].values, index=df_cleaned[\"Date\"]\n",
    ")\n",
    "CHTest(m=2).estimate_seasonal_differencing_term(time_series)"
   ]
  },
  {
   "cell_type": "code",
   "execution_count": null,
   "metadata": {},
   "outputs": [],
   "source": []
  }
 ],
 "metadata": {
  "kernelspec": {
   "display_name": ".venv",
   "language": "python",
   "name": "python3"
  },
  "language_info": {
   "codemirror_mode": {
    "name": "ipython",
    "version": 3
   },
   "file_extension": ".py",
   "mimetype": "text/x-python",
   "name": "python",
   "nbconvert_exporter": "python",
   "pygments_lexer": "ipython3",
   "version": "3.10.12"
  }
 },
 "nbformat": 4,
 "nbformat_minor": 2
}
